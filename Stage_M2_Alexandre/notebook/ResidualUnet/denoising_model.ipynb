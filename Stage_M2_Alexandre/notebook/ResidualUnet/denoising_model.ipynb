{
 "cells": [
  {
   "cell_type": "code",
   "id": "f2bb6dc7-ad66-4eaf-8413-839c275374aa",
   "metadata": {
    "ExecuteTime": {
     "end_time": "2024-06-07T21:00:54.997015Z",
     "start_time": "2024-06-07T21:00:53.067040Z"
    }
   },
   "source": [
    "import torch\n",
    "import matplotlib.pyplot as plt\n",
    "import torchvision.transforms as transforms\n",
    "from torchvision.datasets import CIFAR10\n",
    "from torchvision.transforms import ToTensor\n",
    "from utils.RandomNoise import AddGaussianNoise\n",
    "import random"
   ],
   "execution_count": 1,
   "outputs": []
  },
  {
   "cell_type": "markdown",
   "source": [
    "# U-Net Denoysing"
   ],
   "metadata": {
    "collapsed": false
   },
   "id": "aa98e98345db0f92"
  },
  {
   "cell_type": "code",
   "source": [
    "dataset_path = 'C:/Users/M1074839/Documents/datasets/cifar-10-python'\n",
    "train_dataset = CIFAR10(root=dataset_path, train=True, transform=transforms.Compose([ToTensor()]))\n",
    "test_dataset = CIFAR10(root=dataset_path, train=False, transform=transforms.Compose([ToTensor()]))"
   ],
   "metadata": {
    "collapsed": false,
    "ExecuteTime": {
     "end_time": "2024-06-07T21:00:56.119263Z",
     "start_time": "2024-06-07T21:00:55.974197Z"
    }
   },
   "id": "9daeeaf1884d0784",
   "execution_count": 2,
   "outputs": []
  },
  {
   "metadata": {},
   "cell_type": "markdown",
   "source": [
    "### Size of an image"
   ],
   "id": "e7cac139c0f2391c"
  },
  {
   "metadata": {
    "ExecuteTime": {
     "start_time": "2024-06-07T14:48:13.563282Z"
    }
   },
   "cell_type": "code",
   "source": [
    "train_dataset[0][0].shape"
   ],
   "id": "5fc616a31d2094a",
   "execution_count": null,
   "outputs": []
  },
  {
   "metadata": {},
   "cell_type": "markdown",
   "source": [
    "### Size of dataset"
   ],
   "id": "4bc252c5eefbb6d6"
  },
  {
   "metadata": {
    "ExecuteTime": {
     "start_time": "2024-06-07T14:48:13.564886Z"
    }
   },
   "cell_type": "code",
   "source": [
    "print(f'taille dataset d\\'entrainement {len(train_dataset)}')\n",
    "print(f'taille dataset de test {len(test_dataset)}')"
   ],
   "id": "39d58c8aad367f1d",
   "execution_count": null,
   "outputs": []
  },
  {
   "metadata": {},
   "cell_type": "markdown",
   "source": [
    "### Illustration of the noised apply to our dataset"
   ],
   "id": "8c77a500fd9b8051"
  },
  {
   "metadata": {
    "ExecuteTime": {
     "start_time": "2024-06-07T14:48:13.566230Z"
    }
   },
   "cell_type": "code",
   "source": [
    "fig, axs = plt.subplots(nrows=1, ncols=2)\n",
    "plt.axis('off')\n",
    "\n",
    "axs[0].axis('off')\n",
    "axs[0].imshow(train_dataset[0][0].permute(1,2,0))\n",
    "\n",
    "axs[1].axis('off')\n",
    "axs[1].imshow(AddGaussianNoise(mean=0, std=0.1)(train_dataset[0][0]).permute(1,2,0))"
   ],
   "id": "1c469975ac9fc59b",
   "execution_count": null,
   "outputs": []
  },
  {
   "cell_type": "code",
   "source": [
    "from torch.nn import MSELoss\n",
    "from torch.optim import Adam\n",
    "from utils.trainer.DenoisingTrainer import DenoysingTrainer\n",
    "from models.ResidualUNet import ResidualUNet\n",
    "\n",
    "learning_rate = 5e-2\n",
    "noise = AddGaussianNoise(0., .1)\n",
    "model = ResidualUNet(in_channels=3, depth=5, num_classes=3, task_name='denoising', dataset_name='CIFAR10')\n",
    "\n",
    "loss = MSELoss()\n",
    "optimizer  = Adam(params=model.parameters(), lr=learning_rate)\n",
    "\n",
    "trainer = DenoysingTrainer(model=model, train_dataset=train_dataset, test_dataset=test_dataset, noise=noise, loss_fn=loss, optimizer=optimizer, batch_size=64, save_best=True)"
   ],
   "metadata": {
    "collapsed": false,
    "ExecuteTime": {
     "start_time": "2024-06-07T14:48:13.567245Z"
    }
   },
   "id": "824260d560b0180b",
   "execution_count": null,
   "outputs": []
  },
  {
   "metadata": {
    "ExecuteTime": {
     "end_time": "2024-06-07T14:48:13.700194Z",
     "start_time": "2024-06-07T14:48:13.669889Z"
    }
   },
   "cell_type": "code",
   "source": [
    "trainer.train(num_epochs=10)"
   ],
   "id": "cddb58bc1dd45597",
   "execution_count": 3,
   "outputs": []
  },
  {
   "metadata": {
    "ExecuteTime": {
     "start_time": "2024-06-07T14:48:13.683633Z"
    }
   },
   "cell_type": "code",
   "source": [
    "loss, PSNR = trainer.evaluate()\n",
    "print(f'loss: {loss:.4f}')\n",
    "print(f'PSNR: {PSNR:.4f}')"
   ],
   "id": "3880ccf18df2e1cb",
   "execution_count": null,
   "outputs": []
  },
  {
   "metadata": {},
   "cell_type": "markdown",
   "source": [
    "### Illustration of the denoising effect of our model"
   ],
   "id": "bf5d95aa110e6574"
  },
  {
   "metadata": {
    "ExecuteTime": {
     "end_time": "2024-06-07T14:48:13.851764Z",
     "start_time": "2024-06-07T14:48:13.838021Z"
    }
   },
   "cell_type": "code",
   "source": [
    "random_test_image = test_dataset[random.randint(0,len(test_dataset))][0]\n",
    "random_test_image_noised = AddGaussianNoise(mean=0, std=0.05)(random_test_image)\n",
    "model_predict_unnoised_image = model(random_test_image_noised[None, :, :, :].to('cuda'))\n",
    "\n",
    "fig, axs = plt.subplots(nrows=1, ncols=3,  figsize=(7, 21))\n",
    "plt.axis('off')\n",
    "\n",
    "axs[0].axis('off')\n",
    "axs[0].imshow(random_test_image.permute(1,2,0))\n",
    "\n",
    "axs[1].axis('off')\n",
    "axs[1].imshow(random_test_image_noised.permute(1,2,0))\n",
    "\n",
    "axs[2].axis('off')\n",
    "axs[2].imshow(model_predict_unnoised_image[0].permute(1,2,0).cpu().detach().numpy())"
   ],
   "id": "a4dd7856a548e0c2",
   "execution_count": 4,
   "outputs": []
  },
  {
   "metadata": {},
   "cell_type": "markdown",
   "source": [
    "## Débruitage d'une image random"
   ],
   "id": "7c4b0326284294c1"
  },
  {
   "metadata": {
    "ExecuteTime": {
     "end_time": "2024-06-07T14:48:14.148564Z",
     "start_time": "2024-06-07T14:48:13.997914Z"
    }
   },
   "cell_type": "code",
   "source": [
    "random_noised_1 = torch.randn((3, 256, 256)).to('cuda')\n",
    "random_noised_2 = random_noised_1 + torch.randn(random_noised_1.shape).to('cuda')\n",
    "random_noised_3 = random_noised_2 + torch.randn(random_noised_2.shape).to('cuda')\n",
    "random_noised_4 = random_noised_3 + torch.randn(random_noised_3.shape).to('cuda')\n",
    "random_noised_5 = random_noised_4 + torch.randn(random_noised_4.shape).to('cuda')\n",
    "\n",
    "model_predict_unnoised_image_1 = model(random_noised_5[None, :, :, :])\n",
    "model_predict_unnoised_image_2 = model(model_predict_unnoised_image_1)\n",
    "model_predict_unnoised_image_3 = model(model_predict_unnoised_image_2)\n",
    "model_predict_unnoised_image_4 = model(model_predict_unnoised_image_3)\n",
    "model_predict_unnoised_image_5 = model(model_predict_unnoised_image_4)\n",
    "model_predict_unnoised_image_6 = model(model_predict_unnoised_image_5)\n",
    "model_predict_unnoised_image_7 = model(model_predict_unnoised_image_6)\n",
    "model_predict_unnoised_image_8 = model(model_predict_unnoised_image_7)\n",
    "model_predict_unnoised_image_9 = model(model_predict_unnoised_image_8)\n",
    "model_predict_unnoised_image_10 = model(model_predict_unnoised_image_9)\n",
    "\n",
    "\n",
    "fig, axs = plt.subplots(nrows=3, ncols=5, figsize=(21, 7))\n",
    "plt.axis('off')\n",
    "\n",
    "axs[0, 0].axis('off')\n",
    "axs[0, 0].imshow(random_noised_1.permute(1,2,0).cpu().detach().numpy())\n",
    "\n",
    "axs[0, 1].axis('off')\n",
    "axs[0, 1].imshow(random_noised_2.permute(1,2,0).cpu().detach().numpy())\n",
    "\n",
    "axs[0, 2].axis('off')\n",
    "axs[0, 2].imshow(random_noised_3.permute(1,2,0).cpu().detach().numpy())\n",
    "\n",
    "axs[0, 3].axis('off')\n",
    "axs[0, 3].imshow(random_noised_4.permute(1,2,0).cpu().detach().numpy())\n",
    "\n",
    "axs[0, 4].axis('off')\n",
    "axs[0, 4].imshow(random_noised_5.permute(1,2,0).cpu().detach().numpy())\n",
    "\n",
    "\n",
    "\n",
    "axs[1, 0].axis('off')\n",
    "axs[1, 0].imshow(model_predict_unnoised_image_1[0].permute(1,2,0).cpu().detach().numpy())\n",
    "\n",
    "axs[1, 1].axis('off')\n",
    "axs[1, 1].imshow(model_predict_unnoised_image_2[0].permute(1,2,0).cpu().detach().numpy())\n",
    "\n",
    "axs[1, 2].axis('off')\n",
    "axs[1, 2].imshow(model_predict_unnoised_image_3[0].permute(1,2,0).cpu().detach().numpy())\n",
    "\n",
    "axs[1, 3].axis('off')\n",
    "axs[1, 3].imshow(model_predict_unnoised_image_4[0].permute(1,2,0).cpu().detach().numpy())\n",
    "\n",
    "axs[1, 4].axis('off')\n",
    "axs[1, 4].imshow(model_predict_unnoised_image_5[0].permute(1,2,0).cpu().detach().numpy())\n",
    "\n",
    "\n",
    "\n",
    "axs[2, 0].axis('off')\n",
    "axs[2, 0].imshow(model_predict_unnoised_image_6[0].permute(1,2,0).cpu().detach().numpy())\n",
    "\n",
    "axs[2, 1].axis('off')\n",
    "axs[2, 1].imshow(model_predict_unnoised_image_7[0].permute(1,2,0).cpu().detach().numpy())\n",
    "\n",
    "axs[2, 2].axis('off')\n",
    "axs[2, 2].imshow(model_predict_unnoised_image_8[0].permute(1,2,0).cpu().detach().numpy())\n",
    "\n",
    "axs[2, 3].axis('off')\n",
    "axs[2, 3].imshow(model_predict_unnoised_image_9[0].permute(1,2,0).cpu().detach().numpy())\n",
    "\n",
    "axs[2, 4].axis('off')\n",
    "axs[2, 4].imshow(model_predict_unnoised_image_10[0].permute(1,2,0).cpu().detach().numpy())"
   ],
   "id": "3d56df14338adba7",
   "execution_count": 5,
   "outputs": []
  },
  {
   "metadata": {
    "ExecuteTime": {
     "start_time": "2024-06-07T14:48:14.146580Z"
    }
   },
   "cell_type": "code",
   "source": "",
   "id": "8bc3644fc6282773",
   "execution_count": null,
   "outputs": []
  },
  {
   "cell_type": "code",
   "execution_count": null,
   "source": [],
   "metadata": {
    "collapsed": false
   },
   "id": "4a815375255a9a38",
   "outputs": []
  }
 ],
 "metadata": {
  "kernelspec": {
   "display_name": "Python 3 (ipykernel)",
   "language": "python",
   "name": "python3"
  },
  "language_info": {
   "codemirror_mode": {
    "name": "ipython",
    "version": 3
   },
   "file_extension": ".py",
   "mimetype": "text/x-python",
   "name": "python",
   "nbconvert_exporter": "python",
   "pygments_lexer": "ipython3",
   "version": "3.10.14"
  }
 },
 "nbformat": 4,
 "nbformat_minor": 5
}
