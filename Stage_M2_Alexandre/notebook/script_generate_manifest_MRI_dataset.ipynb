{
 "cells": [
  {
   "cell_type": "code",
   "id": "95da4ced-91ee-49d2-a303-26e565564fba",
   "metadata": {
    "ExecuteTime": {
     "end_time": "2024-06-26T12:32:15.878498Z",
     "start_time": "2024-06-26T12:32:15.866993Z"
    }
   },
   "source": [
    "def index_list_match_regex(l: list, substring):\n",
    "    \"\"\"\n",
    "    Return the index of the list where the substring is contains the list elem.\n",
    "    Considering that the substring provide is mandatorly present in one unique index. \n",
    "    \"\"\"\n",
    "    for i, elem in enumerate(l):\n",
    "        if substring in elem:\n",
    "            return i"
   ],
   "outputs": [],
   "execution_count": 1
  },
  {
   "metadata": {
    "ExecuteTime": {
     "end_time": "2024-06-26T12:32:16.341758Z",
     "start_time": "2024-06-26T12:32:16.325748Z"
    }
   },
   "cell_type": "code",
   "source": "path_dataset = '../../DB_IA-Gen-Med-Im/data/'",
   "id": "710a136fde3f1c7a",
   "outputs": [],
   "execution_count": 2
  },
  {
   "cell_type": "code",
   "id": "2b7ce885-eba0-4f73-bee6-addf9785ec6c",
   "metadata": {
    "ExecuteTime": {
     "end_time": "2024-06-26T12:32:30.449149Z",
     "start_time": "2024-06-26T12:32:30.345402Z"
    }
   },
   "source": [
    "import os\n",
    "import pandas as pd\n",
    "\n",
    "mode = 'conditional_generation'\n",
    "\n",
    "root = path_dataset\n",
    "list_patient = os.listdir(root)\n",
    "manifest_dict = []\n",
    "for patient in list_patient:\n",
    "    path_patient = os.path.join(root, patient)\n",
    "    MRI_slices = os.listdir(path_patient)\n",
    "    for MRI_slice in MRI_slices:\n",
    "        path_slice = os.path.join(path_patient, MRI_slice)\n",
    "        files = os.listdir(path_slice)\n",
    "        filename_preMRI = files[index_list_match_regex(files, 'IRMpre')]\n",
    "        filename_treatment = files[index_list_match_regex(files, 'RTDOSE')]\n",
    "        filename_postMRI = files[index_list_match_regex(files, 'IRMpost')]\n",
    "        if mode == 'autoencoder':\n",
    "            manifest_dict.append({\n",
    "                'patient': patient,\n",
    "                'slice': MRI_slice,\n",
    "                'MRI_img': filename_preMRI,\n",
    "            })\n",
    "            manifest_dict.append({\n",
    "                'patient': patient,\n",
    "                'slice': MRI_slice,\n",
    "                'MRI_img': filename_postMRI\n",
    "            })\n",
    "        elif mode == 'generation':\n",
    "            manifest_dict.append({\n",
    "                'patient': patient,\n",
    "                'slice': MRI_slice,\n",
    "                'preMRI': filename_preMRI,\n",
    "                'postMRI': filename_postMRI\n",
    "            })\n",
    "        elif mode == 'conditional_generation':\n",
    "            manifest_dict.append({\n",
    "                'patient': patient,\n",
    "                'slice': MRI_slice,\n",
    "                'preMRI': filename_preMRI,\n",
    "                'treatment': filename_treatment,\n",
    "                'postMRI': filename_postMRI\n",
    "            })\n",
    "        else:\n",
    "            raise NotImplementedError\n",
    "df_dataset = pd.DataFrame(manifest_dict)"
   ],
   "outputs": [],
   "execution_count": 7
  },
  {
   "cell_type": "code",
   "id": "987ab8e8-cb19-4508-b90b-219303f75e20",
   "metadata": {
    "ExecuteTime": {
     "end_time": "2024-06-26T12:32:31.077925Z",
     "start_time": "2024-06-26T12:32:31.054709Z"
    }
   },
   "source": [
    "df_dataset.head()"
   ],
   "outputs": [
    {
     "data": {
      "text/plain": [
       "     patient slice                                 preMRI  \\\n",
       "0  198001254   100  198001254_IRMpre_Court_207.0_100_.nii   \n",
       "1  198001254   101  198001254_IRMpre_Court_207.0_101_.nii   \n",
       "2  198001254   102  198001254_IRMpre_Court_207.0_102_.nii   \n",
       "3  198001254   103  198001254_IRMpre_Court_207.0_103_.nii   \n",
       "4  198001254   104  198001254_IRMpre_Court_207.0_104_.nii   \n",
       "\n",
       "                               treatment  \\\n",
       "0  198001254_RTDOSE_Court_207.0_100_.nii   \n",
       "1  198001254_RTDOSE_Court_207.0_101_.nii   \n",
       "2  198001254_RTDOSE_Court_207.0_102_.nii   \n",
       "3  198001254_RTDOSE_Court_207.0_103_.nii   \n",
       "4  198001254_RTDOSE_Court_207.0_104_.nii   \n",
       "\n",
       "                                       postMRI  \n",
       "0  198001254_IRMpost4mois_Court_207.0_100_.nii  \n",
       "1  198001254_IRMpost4mois_Court_207.0_101_.nii  \n",
       "2  198001254_IRMpost4mois_Court_207.0_102_.nii  \n",
       "3  198001254_IRMpost4mois_Court_207.0_103_.nii  \n",
       "4  198001254_IRMpost4mois_Court_207.0_104_.nii  "
      ],
      "text/html": [
       "<div>\n",
       "<style scoped>\n",
       "    .dataframe tbody tr th:only-of-type {\n",
       "        vertical-align: middle;\n",
       "    }\n",
       "\n",
       "    .dataframe tbody tr th {\n",
       "        vertical-align: top;\n",
       "    }\n",
       "\n",
       "    .dataframe thead th {\n",
       "        text-align: right;\n",
       "    }\n",
       "</style>\n",
       "<table border=\"1\" class=\"dataframe\">\n",
       "  <thead>\n",
       "    <tr style=\"text-align: right;\">\n",
       "      <th></th>\n",
       "      <th>patient</th>\n",
       "      <th>slice</th>\n",
       "      <th>preMRI</th>\n",
       "      <th>treatment</th>\n",
       "      <th>postMRI</th>\n",
       "    </tr>\n",
       "  </thead>\n",
       "  <tbody>\n",
       "    <tr>\n",
       "      <th>0</th>\n",
       "      <td>198001254</td>\n",
       "      <td>100</td>\n",
       "      <td>198001254_IRMpre_Court_207.0_100_.nii</td>\n",
       "      <td>198001254_RTDOSE_Court_207.0_100_.nii</td>\n",
       "      <td>198001254_IRMpost4mois_Court_207.0_100_.nii</td>\n",
       "    </tr>\n",
       "    <tr>\n",
       "      <th>1</th>\n",
       "      <td>198001254</td>\n",
       "      <td>101</td>\n",
       "      <td>198001254_IRMpre_Court_207.0_101_.nii</td>\n",
       "      <td>198001254_RTDOSE_Court_207.0_101_.nii</td>\n",
       "      <td>198001254_IRMpost4mois_Court_207.0_101_.nii</td>\n",
       "    </tr>\n",
       "    <tr>\n",
       "      <th>2</th>\n",
       "      <td>198001254</td>\n",
       "      <td>102</td>\n",
       "      <td>198001254_IRMpre_Court_207.0_102_.nii</td>\n",
       "      <td>198001254_RTDOSE_Court_207.0_102_.nii</td>\n",
       "      <td>198001254_IRMpost4mois_Court_207.0_102_.nii</td>\n",
       "    </tr>\n",
       "    <tr>\n",
       "      <th>3</th>\n",
       "      <td>198001254</td>\n",
       "      <td>103</td>\n",
       "      <td>198001254_IRMpre_Court_207.0_103_.nii</td>\n",
       "      <td>198001254_RTDOSE_Court_207.0_103_.nii</td>\n",
       "      <td>198001254_IRMpost4mois_Court_207.0_103_.nii</td>\n",
       "    </tr>\n",
       "    <tr>\n",
       "      <th>4</th>\n",
       "      <td>198001254</td>\n",
       "      <td>104</td>\n",
       "      <td>198001254_IRMpre_Court_207.0_104_.nii</td>\n",
       "      <td>198001254_RTDOSE_Court_207.0_104_.nii</td>\n",
       "      <td>198001254_IRMpost4mois_Court_207.0_104_.nii</td>\n",
       "    </tr>\n",
       "  </tbody>\n",
       "</table>\n",
       "</div>"
      ]
     },
     "execution_count": 8,
     "metadata": {},
     "output_type": "execute_result"
    }
   ],
   "execution_count": 8
  },
  {
   "cell_type": "code",
   "id": "8fb5835a-bc5b-4b50-a953-419e8efa9276",
   "metadata": {
    "ExecuteTime": {
     "end_time": "2024-06-26T12:32:31.709242Z",
     "start_time": "2024-06-26T12:32:31.693608Z"
    }
   },
   "source": "df_dataset.to_csv(f'{path_dataset}../MRI_dataset_{mode}.csv', index=False, encoding='utf-8')",
   "outputs": [],
   "execution_count": 9
  },
  {
   "cell_type": "code",
   "id": "c145ab21-eae2-4d8c-baeb-a06fd356fba8",
   "metadata": {
    "ExecuteTime": {
     "end_time": "2024-06-26T12:32:33.060345Z",
     "start_time": "2024-06-26T12:32:33.044415Z"
    }
   },
   "source": "df_dataset.shape",
   "outputs": [
    {
     "data": {
      "text/plain": [
       "(2740, 5)"
      ]
     },
     "execution_count": 10,
     "metadata": {},
     "output_type": "execute_result"
    }
   ],
   "execution_count": 10
  },
  {
   "cell_type": "code",
   "execution_count": null,
   "id": "8a1c8854-bf88-4765-a8ec-2c8566c65c95",
   "metadata": {},
   "outputs": [],
   "source": []
  }
 ],
 "metadata": {
  "kernelspec": {
   "display_name": "Python 3 (ipykernel)",
   "language": "python",
   "name": "python3"
  },
  "language_info": {
   "codemirror_mode": {
    "name": "ipython",
    "version": 3
   },
   "file_extension": ".py",
   "mimetype": "text/x-python",
   "name": "python",
   "nbconvert_exporter": "python",
   "pygments_lexer": "ipython3",
   "version": "3.10.14"
  }
 },
 "nbformat": 4,
 "nbformat_minor": 5
}
