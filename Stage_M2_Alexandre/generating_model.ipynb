{
 "cells": [
  {
   "cell_type": "code",
   "id": "initial_id",
   "metadata": {
    "collapsed": true,
    "ExecuteTime": {
     "end_time": "2024-05-30T15:47:12.447756Z",
     "start_time": "2024-05-30T15:47:10.984068Z"
    }
   },
   "source": [
    "from data.CustomImageDataset import GenerationImageDataset\n",
    "import matplotlib.pyplot as plt\n",
    "import torchvision.transforms as transforms"
   ],
   "outputs": [],
   "execution_count": 1
  },
  {
   "metadata": {},
   "cell_type": "markdown",
   "source": [
    "## Chargement des données"
   ],
   "id": "fd57c525d903c69e"
  },
  {
   "metadata": {
    "ExecuteTime": {
     "end_time": "2024-05-30T15:47:13.718919Z",
     "start_time": "2024-05-30T15:47:13.672991Z"
    }
   },
   "cell_type": "code",
   "source": [
    "dataset_path = './data/datasets/satellite_image_caption_generation'\n",
    "\n",
    "transformations = transforms.Compose([\n",
    "    transforms.Grayscale(1)\n",
    "])\n",
    "\n",
    "train_dataset = GenerationImageDataset(dataset_path=dataset_path, annotations_file=\"train.csv\", transform=transformations)\n",
    "validation_dataset = GenerationImageDataset(dataset_path=dataset_path, annotations_file=\"valid.csv\", transform=transformations)\n",
    "test_dataset = GenerationImageDataset(dataset_path=dataset_path, annotations_file=\"test.csv\", transform=transformations)"
   ],
   "id": "93ff3ae14402f61d",
   "outputs": [],
   "execution_count": 2
  },
  {
   "metadata": {
    "ExecuteTime": {
     "end_time": "2024-05-30T15:47:16.572310Z",
     "start_time": "2024-05-30T15:47:16.568106Z"
    }
   },
   "cell_type": "code",
   "source": [
    "print(f'taille dataset d\\'entrainement {len(train_dataset)}')\n",
    "print(f'taille dataset de validation {len(validation_dataset)}')\n",
    "print(f'taille dataset de test {len(test_dataset)}')"
   ],
   "id": "4378148b6093d934",
   "outputs": [
    {
     "name": "stdout",
     "output_type": "stream",
     "text": [
      "taille dataset d'entrainement 8734\n",
      "taille dataset de validation 1094\n",
      "taille dataset de test 1093\n"
     ]
    }
   ],
   "execution_count": 3
  },
  {
   "metadata": {},
   "cell_type": "markdown",
   "source": [
    "## Affichage de quelques données"
   ],
   "id": "438a8508cc84c539"
  },
  {
   "metadata": {
    "ExecuteTime": {
     "end_time": "2024-05-30T08:44:32.353375Z",
     "start_time": "2024-05-30T08:44:32.338867Z"
    }
   },
   "cell_type": "code",
   "source": [
    "fig, axs = plt.subplots(nrows=3, ncols=3)\n",
    "plt.axis('off')\n",
    "for i in range(3):\n",
    "    for j in range(3):\n",
    "        axs[i, j].axis('off')\n",
    "        axs[i, j].imshow(train_dataset[3*i + j].permute(1,2,0))"
   ],
   "id": "e4b4b288cb0abec1",
   "outputs": [],
   "execution_count": null
  },
  {
   "metadata": {},
   "cell_type": "markdown",
   "source": [
    "## Entrainement"
   ],
   "id": "a137a8615d696730"
  },
  {
   "metadata": {
    "ExecuteTime": {
     "end_time": "2024-05-30T15:47:21.345607Z",
     "start_time": "2024-05-30T15:47:21.176441Z"
    }
   },
   "cell_type": "code",
   "source": [
    "from torch.optim import Adam\n",
    "from torch.nn import CrossEntropyLoss\n",
    "from utils.trainer.GenerationTrainer import GenerationTrainer\n",
    "from models.UNet import UNet\n",
    "\n",
    "learning_rate = 0.05\n",
    "model = UNet(in_channels=1, depth=5, num_classes=256, task_name='generation', dataset_name='satellite_image_caption')\n",
    "\n",
    "loss = CrossEntropyLoss()\n",
    "optimizer  = Adam(params=model.parameters(), lr=learning_rate)\n",
    "\n",
    "trainer = GenerationTrainer(model=model, train_dataset=train_dataset, test_dataset=test_dataset, loss_fn=loss, optimizer=optimizer, batch_size=24)"
   ],
   "id": "56ff2d453b3223c6",
   "outputs": [
    {
     "name": "stdout",
     "output_type": "stream",
     "text": [
      "device: cpu\n"
     ]
    }
   ],
   "execution_count": 4
  },
  {
   "metadata": {
    "ExecuteTime": {
     "end_time": "2024-05-30T08:44:32.400900Z",
     "start_time": "2024-05-30T08:44:32.386395Z"
    }
   },
   "cell_type": "code",
   "source": [
    "trainer.train(num_epochs=1)"
   ],
   "id": "d27d8ccffec0891a",
   "outputs": [],
   "execution_count": null
  },
  {
   "metadata": {},
   "cell_type": "markdown",
   "source": [
    "## Affiche les infos sur le modèles"
   ],
   "id": "84b967452b888cf4"
  },
  {
   "metadata": {
    "ExecuteTime": {
     "end_time": "2024-05-30T15:47:23.925171Z",
     "start_time": "2024-05-30T15:47:23.713818Z"
    }
   },
   "cell_type": "code",
   "source": [
    "from torchinfo import summary\n",
    "\n",
    "summary_kwargs = dict(col_names=['input_size', 'output_size', 'kernel_size', 'num_params', 'mult_adds'], depth=3, verbose=0)\n",
    "\n",
    "summary(model, input_size=train_dataset[0].shape, batch_dim=0, **summary_kwargs)"
   ],
   "id": "ec5b41a39848f91f",
   "outputs": [
    {
     "data": {
      "text/plain": "==========================================================================================================================================================================\nLayer (type:depth-idx)                        Input Shape               Output Shape              Kernel Shape              Param #                   Mult-Adds\n==========================================================================================================================================================================\nUNet                                          [1, 1, 224, 224]          [1, 256, 224, 224]        --                        --                        --\n├─ModuleDict: 1-1                             --                        --                        --                        --                        --\n│    └─ResidualBlock: 2-1                     [1, 1, 224, 224]          [1, 64, 224, 224]         --                        --                        --\n│    │    └─Conv2d: 3-1                       [1, 1, 224, 224]          [1, 64, 224, 224]         [3, 3]                    576                       28,901,376\n│    │    └─BatchNorm2d: 3-2                  [1, 64, 224, 224]         [1, 64, 224, 224]         --                        128                       128\n│    │    └─Conv2d: 3-3                       [1, 64, 224, 224]         [1, 64, 224, 224]         [3, 3]                    36,864                    1,849,688,064\n│    │    └─BatchNorm2d: 3-4                  [1, 64, 224, 224]         [1, 64, 224, 224]         --                        128                       128\n│    │    └─Conv2d: 3-5                       [1, 1, 224, 224]          [1, 64, 224, 224]         [1, 1]                    64                        3,211,264\n│    └─Sequential: 2-2                        [1, 64, 224, 224]         [1, 128, 112, 112]        --                        --                        --\n│    │    └─MaxPool2d: 3-6                    [1, 64, 224, 224]         [1, 64, 112, 112]         2                         --                        --\n│    │    └─ResidualBottleneckBlock: 3-7      [1, 64, 112, 112]         [1, 128, 112, 112]        --                        13,888                    170,197,312\n│    └─Sequential: 2-3                        [1, 128, 112, 112]        [1, 256, 56, 56]          --                        --                        --\n│    │    └─MaxPool2d: 3-8                    [1, 128, 112, 112]        [1, 128, 56, 56]          2                         --                        --\n│    │    └─ResidualBottleneckBlock: 3-9      [1, 128, 56, 56]          [1, 256, 56, 56]          --                        54,912                    170,197,632\n│    └─Sequential: 2-4                        [1, 256, 56, 56]          [1, 512, 28, 28]          --                        --                        --\n│    │    └─MaxPool2d: 3-10                   [1, 256, 56, 56]          [1, 256, 28, 28]          2                         --                        --\n│    │    └─ResidualBottleneckBlock: 3-11     [1, 256, 28, 28]          [1, 512, 28, 28]          --                        218,368                   170,198,272\n│    └─Sequential: 2-5                        [1, 512, 28, 28]          [1, 1024, 14, 14]         --                        --                        --\n│    │    └─MaxPool2d: 3-12                   [1, 512, 28, 28]          [1, 512, 14, 14]          2                         --                        --\n│    │    └─ResidualBottleneckBlock: 3-13     [1, 512, 14, 14]          [1, 1024, 14, 14]         --                        870,912                   170,199,552\n│    └─Sequential: 2-6                        [1, 1024, 14, 14]         [1, 2048, 7, 7]           --                        --                        --\n│    │    └─MaxPool2d: 3-14                   [1, 1024, 14, 14]         [1, 1024, 7, 7]           2                         --                        --\n│    │    └─ResidualBottleneckBlock: 3-15     [1, 1024, 7, 7]           [1, 2048, 7, 7]           --                        3,478,528                 170,202,112\n├─ModuleDict: 1-2                             --                        --                        --                        --                        --\n│    └─ConvTranspose2d: 2-7                   [1, 2048, 7, 7]           [1, 1024, 14, 14]         [3, 3]                    18,875,392                3,699,576,832\n│    └─Sequential: 2-8                        [1, 2048, 14, 14]         [1, 512, 28, 28]          --                        --                        --\n│    │    └─ResidualBottleneckBlock: 3-16     [1, 2048, 14, 14]         [1, 512, 14, 14]          --                        4,721,664                 924,847,104\n│    │    └─ConvTranspose2d: 3-17             [1, 512, 14, 14]          [1, 512, 28, 28]          [3, 3]                    2,359,808                 1,850,089,472\n│    └─Sequential: 2-9                        [1, 1024, 28, 28]         [1, 256, 56, 56]          --                        --                        --\n│    │    └─ResidualBottleneckBlock: 3-18     [1, 1024, 28, 28]         [1, 256, 28, 28]          --                        1,181,184                 924,845,568\n│    │    └─ConvTranspose2d: 3-19             [1, 256, 28, 28]          [1, 256, 56, 56]          [3, 3]                    590,080                   1,850,490,880\n│    └─Sequential: 2-10                       [1, 512, 56, 56]          [1, 128, 112, 112]        --                        --                        --\n│    │    └─ResidualBottleneckBlock: 3-20     [1, 512, 56, 56]          [1, 128, 56, 56]          --                        295,680                   924,844,800\n│    │    └─ConvTranspose2d: 3-21             [1, 128, 56, 56]          [1, 128, 112, 112]        [3, 3]                    147,584                   1,851,293,696\n│    └─Sequential: 2-11                       [1, 256, 112, 112]        [1, 64, 224, 224]         --                        --                        --\n│    │    └─ResidualBottleneckBlock: 3-22     [1, 256, 112, 112]        [1, 64, 112, 112]         --                        74,112                    924,844,416\n│    │    └─ConvTranspose2d: 3-23             [1, 64, 112, 112]         [1, 64, 224, 224]         [3, 3]                    36,928                    1,852,899,328\n│    └─ResidualBottleneckBlock: 2-12          [1, 128, 224, 224]        [1, 256, 224, 224]        --                        --                        --\n│    │    └─Conv2d: 3-24                      [1, 128, 224, 224]        [1, 32, 224, 224]         [1, 1]                    4,096                     205,520,896\n│    │    └─BatchNorm2d: 3-25                 [1, 32, 224, 224]         [1, 32, 224, 224]         --                        64                        64\n│    │    └─Conv2d: 3-26                      [1, 32, 224, 224]         [1, 32, 224, 224]         [3, 3]                    9,216                     462,422,016\n│    │    └─BatchNorm2d: 3-27                 [1, 32, 224, 224]         [1, 32, 224, 224]         --                        64                        64\n│    │    └─Conv2d: 3-28                      [1, 32, 224, 224]         [1, 256, 224, 224]        [1, 1]                    8,192                     411,041,792\n│    │    └─Conv2d: 3-29                      [1, 128, 224, 224]        [1, 256, 224, 224]        [1, 1]                    32,768                    1,644,167,168\n│    │    └─BatchNorm2d: 3-30                 [1, 256, 224, 224]        [1, 256, 224, 224]        --                        512                       512\n==========================================================================================================================================================================\nTotal params: 33,011,712\nTrainable params: 33,011,712\nNon-trainable params: 0\nTotal mult-adds (G): 20.26\n==========================================================================================================================================================================\nInput size (MB): 0.20\nForward/backward pass size (MB): 709.29\nParams size (MB): 132.05\nEstimated Total Size (MB): 841.54\n=========================================================================================================================================================================="
     },
     "execution_count": 5,
     "metadata": {},
     "output_type": "execute_result"
    }
   ],
   "execution_count": 5
  },
  {
   "metadata": {},
   "cell_type": "markdown",
   "source": [
    "Rappel, une RTX 4080 à une puissance de 48.74 TFlops (FP32) Soit $48.74 \\times 10^{12}$ opérations par secondes en float32.\n",
    "Avec une profondeur de 5 blocs:\n",
    "Ici, nous lisons que le modèle effectue $82.15 \\times 10^9$ opérations pour une image avec des couches résiduelles. Nous avons aussi 114 millions de paramètres au total.\n",
    "En utilisant remplaçant les couches résiduelles par des ResidualBottleneck, nous obtenons $20.26 \\times 10^9$ opérations et 33 millions de paramètres pour le modèle."
   ],
   "id": "7c762ad0c0f3f841"
  },
  {
   "metadata": {
    "ExecuteTime": {
     "end_time": "2024-05-30T08:44:32.729478Z",
     "start_time": "2024-05-30T08:44:32.716970Z"
    }
   },
   "cell_type": "code",
   "source": [],
   "id": "1a835e78f1d76e5c",
   "outputs": [],
   "execution_count": null
  },
  {
   "metadata": {
    "ExecuteTime": {
     "end_time": "2024-05-30T08:44:32.871526Z",
     "start_time": "2024-05-30T08:44:32.868528Z"
    }
   },
   "cell_type": "code",
   "source": [],
   "id": "e5ad7285777f626d",
   "outputs": [],
   "execution_count": null
  },
  {
   "metadata": {
    "ExecuteTime": {
     "end_time": "2024-05-30T08:44:33.013074Z",
     "start_time": "2024-05-30T08:44:33.004562Z"
    }
   },
   "cell_type": "code",
   "source": [],
   "id": "84f857ce393591c7",
   "outputs": [],
   "execution_count": null
  },
  {
   "metadata": {
    "ExecuteTime": {
     "end_time": "2024-05-30T08:44:33.153226Z",
     "start_time": "2024-05-30T08:44:33.148227Z"
    }
   },
   "cell_type": "code",
   "source": [],
   "id": "563d35934e484806",
   "outputs": [],
   "execution_count": null
  },
  {
   "metadata": {
    "ExecuteTime": {
     "end_time": "2024-05-30T08:44:33.294775Z",
     "start_time": "2024-05-30T08:44:33.284263Z"
    }
   },
   "cell_type": "code",
   "source": [],
   "id": "bb8aef255dc58cae",
   "outputs": [],
   "execution_count": null
  },
  {
   "metadata": {},
   "cell_type": "code",
   "outputs": [],
   "execution_count": null,
   "source": [],
   "id": "b6fc57c23850758c"
  }
 ],
 "metadata": {
  "kernelspec": {
   "display_name": "Python 3",
   "language": "python",
   "name": "python3"
  },
  "language_info": {
   "codemirror_mode": {
    "name": "ipython",
    "version": 2
   },
   "file_extension": ".py",
   "mimetype": "text/x-python",
   "name": "python",
   "nbconvert_exporter": "python",
   "pygments_lexer": "ipython2",
   "version": "2.7.6"
  }
 },
 "nbformat": 4,
 "nbformat_minor": 5
}
