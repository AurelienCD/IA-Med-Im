{
 "cells": [
  {
   "cell_type": "code",
   "execution_count": 1,
   "id": "e727c622f4cff1fa",
   "metadata": {
    "ExecuteTime": {
     "end_time": "2023-12-20T14:40:35.811913900Z",
     "start_time": "2023-12-20T14:40:35.774240300Z"
    }
   },
   "outputs": [],
   "source": [
    "import numpy as np\n",
    "import nibabel as nib\n",
    "import matplotlib.pyplot as plt\n",
    "from matplotlib.widgets import Slider\n",
    "import os"
   ]
  },
  {
   "cell_type": "markdown",
   "id": "db0ef4a018e0686f",
   "metadata": {},
   "source": [
    "# Rename all files"
   ]
  },
  {
   "cell_type": "code",
   "execution_count": null,
   "id": "9ec117a6bda3b5b9",
   "metadata": {
    "ExecuteTime": {
     "end_time": "2023-12-12T10:15:09.799606300Z",
     "start_time": "2023-12-12T10:15:09.727608200Z"
    }
   },
   "outputs": [],
   "source": [
    "src = \"\"\n",
    "\n",
    "\n",
    "def rename_files(root, file, patient_id):\n",
    "    if 'RTDOSE' in file:\n",
    "        new_name = f\"rtdose_{patient_id}.nrrd\"\n",
    "    elif 'GTV' in file:\n",
    "        new_name = f\"gtv_{patient_id}.nrrd\"\n",
    "    else :\n",
    "        return\n",
    "    old_file_path = os.path.join(root, file)\n",
    "    new_file_path = os.path.join(root, new_name)\n",
    "    os.rename(old_file_path, new_file_path)\n",
    "\n",
    "def rename_mri_files(root, files, patient_id):\n",
    "    mri_files = sorted([f for f in files if 'mr' in f.lower() and f.endswith('.nrrd')],\n",
    "                       key=lambda x: x.split('_')[-1])\n",
    "    \n",
    "    if len(mri_files) == 2:\n",
    "        pre_mri, post_mri = mri_files\n",
    "        \n",
    "        if \"pre\" in pre_mri or \"post\" in post_mri:\n",
    "            return\n",
    "        \n",
    "        base_name_pre = \"_\".join(pre_mri.split('_')[:-1])\n",
    "        base_name_post = \"_\".join(post_mri.split('_')[:-1])\n",
    "        \n",
    "        date_pre = pre_mri.split('_')[-1].split('.')[0]\n",
    "        date_post = post_mri.split('_')[-1].split('.')[0]\n",
    "        new_name_pre = f\"{base_name_pre}_pre_{date_pre}.nrrd\"\n",
    "        new_name_post = f\"{base_name_post}_post_{date_post}.nrrd\"\n",
    "        \n",
    "        \n",
    "        old_file_path_pre = os.path.join(root, pre_mri)\n",
    "        new_file_path_pre = os.path.join(root, new_name_pre)\n",
    "        os.rename(old_file_path_pre, new_file_path_pre)\n",
    "\n",
    "        old_file_path_post = os.path.join(root, post_mri)\n",
    "        new_file_path_post = os.path.join(root, new_name_post)\n",
    "        os.rename(old_file_path_post, new_file_path_post)\n",
    "\n",
    "\n",
    "for root, dirs, files in os.walk(src):\n",
    "    patient_id = root.split(os.sep)[-1].split(\"_\")[0].lower()\n",
    "    rename_mri_files(root, files, patient_id)\n",
    "\n",
    "    for file in files:\n",
    "        if file.endswith(\".nrrd\"):\n",
    "            rename_files(root, file, patient_id)\n",
    "\n"
   ]
  },
  {
   "cell_type": "markdown",
   "id": "e6e7357c53682065",
   "metadata": {},
   "source": [
    "# Load data "
   ]
  },
  {
   "cell_type": "code",
   "execution_count": 2,
   "id": "8aa248ce00803abd",
   "metadata": {
    "ExecuteTime": {
     "end_time": "2023-12-20T17:38:20.776906900Z",
     "start_time": "2023-12-20T17:38:20.751538900Z"
    }
   },
   "outputs": [],
   "source": [
    "def load_data(folder):\n",
    "\n",
    "    pre_treatment_mri = None\n",
    "    post_treatment_mri = None\n",
    "    rtdose = None\n",
    "    gtv = None\n",
    "    \n",
    "\n",
    "    for file in os.listdir(folder):\n",
    "        if file.endswith('.nii'):\n",
    "            file_path = os.path.join(folder, file)\n",
    "            data_nifti = nib.load(file_path)\n",
    "            data = np.array(data_nifti.dataobj, dtype=np.float32)\n",
    "            if 'pre' in file:\n",
    "                pre_treatment_mri = data\n",
    "            elif 'post' in file:\n",
    "                post_treatment_mri = data\n",
    "            elif 'RTDOSE' in file:\n",
    "                rtdose = data\n",
    "            elif 'GTV' in file:\n",
    "                gtv = data\n",
    "    \n",
    "    return pre_treatment_mri, post_treatment_mri, rtdose, gtv"
   ]
  },
  {
   "cell_type": "code",
   "execution_count": 3,
   "id": "90c15276a0b2c82f",
   "metadata": {
    "ExecuteTime": {
     "end_time": "2023-12-20T17:38:40.144126700Z",
     "start_time": "2023-12-20T17:38:21.526260500Z"
    }
   },
   "outputs": [],
   "source": [
    "folder = \"./data\"\n",
    "dataset = []\n",
    "\n",
    "for root, dirs, files in os.walk(folder):\n",
    "    for d in dirs:\n",
    "        path = os.path.join(root, d)\n",
    "        pre_treatment_mri, post_treatment_mri, rtdose, gtv= load_data(path)\n",
    "        dataset.append((pre_treatment_mri, post_treatment_mri, rtdose, gtv))\n",
    "        "
   ]
  },
  {
   "cell_type": "code",
   "execution_count": 4,
   "id": "9febe9e2a3f364ca",
   "metadata": {
    "ExecuteTime": {
     "end_time": "2023-12-20T17:38:41.017086400Z",
     "start_time": "2023-12-20T17:38:40.977691800Z"
    }
   },
   "outputs": [
    {
     "name": "stdout",
     "output_type": "stream",
     "text": [
      "(array([[[ 0.,  0.,  0., ...,  0.,  0.,  0.],\n",
      "        [ 0.,  0.,  0., ...,  0.,  0.,  0.],\n",
      "        [ 0.,  0.,  0., ...,  0.,  0.,  0.],\n",
      "        ...,\n",
      "        [ 0.,  0.,  0., ...,  0.,  0.,  0.],\n",
      "        [ 0.,  0.,  0., ...,  0.,  0.,  0.],\n",
      "        [ 0.,  0.,  0., ...,  0.,  0.,  0.]],\n",
      "\n",
      "       [[ 0.,  0.,  0., ...,  0.,  0.,  0.],\n",
      "        [ 1.,  0.,  0., ...,  0.,  0.,  0.],\n",
      "        [ 1.,  1.,  0., ...,  0.,  0.,  0.],\n",
      "        ...,\n",
      "        [ 9.,  5.,  3., ...,  0.,  0.,  0.],\n",
      "        [10.,  7.,  4., ...,  0.,  0.,  0.],\n",
      "        [ 0.,  0.,  0., ...,  0.,  0.,  0.]],\n",
      "\n",
      "       [[ 0.,  0.,  0., ...,  0.,  0.,  0.],\n",
      "        [ 1.,  2.,  1., ...,  0.,  0.,  0.],\n",
      "        [ 1.,  1.,  1., ...,  0.,  0.,  0.],\n",
      "        ...,\n",
      "        [ 6.,  1.,  7., ...,  0.,  0.,  0.],\n",
      "        [ 6.,  2.,  9., ...,  0.,  0.,  0.],\n",
      "        [ 0.,  0.,  0., ...,  0.,  0.,  0.]],\n",
      "\n",
      "       ...,\n",
      "\n",
      "       [[ 0.,  0.,  0., ...,  0.,  0.,  0.],\n",
      "        [ 1.,  0.,  2., ...,  0.,  0.,  0.],\n",
      "        [ 0.,  1.,  2., ...,  0.,  0.,  0.],\n",
      "        ...,\n",
      "        [ 0.,  0.,  0., ...,  0.,  0.,  0.],\n",
      "        [ 0.,  0.,  0., ...,  0.,  0.,  0.],\n",
      "        [ 0.,  0.,  0., ...,  0.,  0.,  0.]],\n",
      "\n",
      "       [[ 0.,  0.,  0., ...,  0.,  0.,  0.],\n",
      "        [ 2.,  1.,  2., ...,  0.,  0.,  0.],\n",
      "        [ 1.,  1.,  1., ...,  0.,  0.,  0.],\n",
      "        ...,\n",
      "        [ 0.,  0.,  0., ...,  0.,  0.,  0.],\n",
      "        [ 0.,  0.,  0., ...,  0.,  0.,  0.],\n",
      "        [ 0.,  0.,  0., ...,  0.,  0.,  0.]],\n",
      "\n",
      "       [[ 0.,  0.,  0., ...,  0.,  0.,  0.],\n",
      "        [ 0.,  0.,  0., ...,  0.,  0.,  0.],\n",
      "        [ 0.,  0.,  0., ...,  0.,  0.,  0.],\n",
      "        ...,\n",
      "        [ 0.,  0.,  0., ...,  0.,  0.,  0.],\n",
      "        [ 0.,  0.,  0., ...,  0.,  0.,  0.],\n",
      "        [ 0.,  0.,  0., ...,  0.,  0.,  0.]]], dtype=float32), array([[[0., 0., 0., ..., 0., 0., 0.],\n",
      "        [0., 0., 0., ..., 0., 0., 0.],\n",
      "        [0., 0., 0., ..., 0., 0., 0.],\n",
      "        ...,\n",
      "        [0., 0., 0., ..., 0., 0., 0.],\n",
      "        [0., 0., 0., ..., 0., 0., 0.],\n",
      "        [0., 0., 0., ..., 0., 0., 0.]],\n",
      "\n",
      "       [[0., 0., 0., ..., 0., 0., 0.],\n",
      "        [0., 0., 0., ..., 0., 0., 0.],\n",
      "        [0., 0., 0., ..., 0., 0., 0.],\n",
      "        ...,\n",
      "        [0., 0., 0., ..., 0., 0., 0.],\n",
      "        [0., 0., 0., ..., 0., 0., 0.],\n",
      "        [0., 0., 0., ..., 0., 0., 0.]],\n",
      "\n",
      "       [[0., 0., 0., ..., 0., 0., 0.],\n",
      "        [0., 0., 0., ..., 0., 0., 0.],\n",
      "        [0., 0., 0., ..., 0., 0., 0.],\n",
      "        ...,\n",
      "        [0., 0., 0., ..., 0., 0., 0.],\n",
      "        [0., 0., 0., ..., 0., 0., 0.],\n",
      "        [0., 0., 0., ..., 0., 0., 0.]],\n",
      "\n",
      "       ...,\n",
      "\n",
      "       [[0., 0., 0., ..., 0., 0., 0.],\n",
      "        [0., 0., 0., ..., 0., 0., 0.],\n",
      "        [0., 0., 0., ..., 0., 0., 0.],\n",
      "        ...,\n",
      "        [0., 0., 0., ..., 0., 0., 0.],\n",
      "        [0., 0., 0., ..., 0., 0., 0.],\n",
      "        [0., 0., 0., ..., 0., 0., 0.]],\n",
      "\n",
      "       [[0., 0., 0., ..., 0., 0., 0.],\n",
      "        [0., 0., 0., ..., 0., 0., 0.],\n",
      "        [0., 0., 0., ..., 0., 0., 0.],\n",
      "        ...,\n",
      "        [0., 0., 0., ..., 0., 0., 0.],\n",
      "        [0., 0., 0., ..., 0., 0., 0.],\n",
      "        [0., 0., 0., ..., 0., 0., 0.]],\n",
      "\n",
      "       [[0., 0., 0., ..., 0., 0., 0.],\n",
      "        [0., 0., 0., ..., 0., 0., 0.],\n",
      "        [0., 0., 0., ..., 0., 0., 0.],\n",
      "        ...,\n",
      "        [0., 0., 0., ..., 0., 0., 0.],\n",
      "        [0., 0., 0., ..., 0., 0., 0.],\n",
      "        [0., 0., 0., ..., 0., 0., 0.]]], dtype=float32), array([[[0.5246729 , 0.52576727, 0.527121  , ..., 1.039011  ,\n",
      "         1.026457  , 1.0137291 ],\n",
      "        [0.5288388 , 0.5292374 , 0.5292346 , ..., 1.040882  ,\n",
      "         1.0291744 , 1.0172901 ],\n",
      "        [0.53005034, 0.53059757, 0.53023845, ..., 1.0427651 ,\n",
      "         1.0319209 , 1.0208927 ],\n",
      "        ...,\n",
      "        [0.52829325, 0.5369808 , 0.54758483, ..., 1.0016379 ,\n",
      "         0.97480524, 0.94843906],\n",
      "        [0.5257885 , 0.53409195, 0.5445353 , ..., 1.0044186 ,\n",
      "         0.97710305, 0.9500232 ],\n",
      "        [0.5242937 , 0.53261876, 0.5430292 , ..., 1.0019835 ,\n",
      "         0.97420305, 0.94754076]],\n",
      "\n",
      "       [[0.5279961 , 0.5288004 , 0.5300711 , ..., 1.0449384 ,\n",
      "         1.0324347 , 1.0197347 ],\n",
      "        [0.5327428 , 0.5330562 , 0.5330254 , ..., 1.0468173 ,\n",
      "         1.0350327 , 1.0230898 ],\n",
      "        [0.53390217, 0.534509  , 0.534247  , ..., 1.0485531 ,\n",
      "         1.0375478 , 1.0263915 ],\n",
      "        ...,\n",
      "        [0.5240528 , 0.53270316, 0.54354864, ..., 1.0038823 ,\n",
      "         0.9777272 , 0.95106065],\n",
      "        [0.5230924 , 0.53122264, 0.54178697, ..., 1.0079575 ,\n",
      "         0.98147947, 0.95392185],\n",
      "        [0.52349037, 0.53164214, 0.54188025, ..., 1.0052985 ,\n",
      "         0.9781254 , 0.95111495]],\n",
      "\n",
      "       [[0.53057796, 0.5308911 , 0.5319097 , ..., 1.0495169 ,\n",
      "         1.0373455 , 1.0250158 ],\n",
      "        [0.53608805, 0.5360596 , 0.53530556, ..., 1.0519958 ,\n",
      "         1.0403374 , 1.0285602 ],\n",
      "        [0.53692627, 0.5374539 , 0.5366953 , ..., 1.0539472 ,\n",
      "         1.0429388 , 1.0318024 ],\n",
      "        ...,\n",
      "        [0.523572  , 0.5320625 , 0.5425772 , ..., 1.0066795 ,\n",
      "         0.9811224 , 0.95413136],\n",
      "        [0.52289253, 0.5308266 , 0.54094046, ..., 1.0114288 ,\n",
      "         0.9855533 , 0.9580842 ],\n",
      "        [0.52331096, 0.53125674, 0.5410083 , ..., 1.0085812 ,\n",
      "         0.9820135 , 0.9546876 ]],\n",
      "\n",
      "       ...,\n",
      "\n",
      "       [[0.36338237, 0.36934486, 0.37562108, ..., 0.8291616 ,\n",
      "         0.8184844 , 0.8076503 ],\n",
      "        [0.36577493, 0.37162453, 0.37780514, ..., 0.83080494,\n",
      "         0.81943065, 0.8081693 ],\n",
      "        [0.36843044, 0.37400824, 0.38020584, ..., 0.8339906 ,\n",
      "         0.82289225, 0.8116492 ],\n",
      "        ...,\n",
      "        [0.2730094 , 0.2800631 , 0.2871233 , ..., 0.65665305,\n",
      "         0.6423441 , 0.62965137],\n",
      "        [0.27293047, 0.28009635, 0.28725186, ..., 0.6482576 ,\n",
      "         0.6340599 , 0.6205007 ],\n",
      "        [0.27283654, 0.28005233, 0.28725633, ..., 0.639879  ,\n",
      "         0.625881  , 0.6116288 ]],\n",
      "\n",
      "       [[0.3637516 , 0.36978757, 0.3760726 , ..., 0.8293718 ,\n",
      "         0.8193275 , 0.80959076],\n",
      "        [0.36603868, 0.37202072, 0.37820825, ..., 0.8317528 ,\n",
      "         0.8211183 , 0.8108119 ],\n",
      "        [0.3685359 , 0.3744057 , 0.3806492 , ..., 0.8348119 ,\n",
      "         0.82422626, 0.8137334 ],\n",
      "        ...,\n",
      "        [0.2727079 , 0.27992353, 0.28714317, ..., 0.6616954 ,\n",
      "         0.6464986 , 0.6336707 ],\n",
      "        [0.27283677, 0.28004092, 0.2872453 , ..., 0.6522953 ,\n",
      "         0.6379827 , 0.6248653 ],\n",
      "        [0.2726857 , 0.28005445, 0.2873454 , ..., 0.6430304 ,\n",
      "         0.62950295, 0.6161563 ]],\n",
      "\n",
      "       [[0.3657283 , 0.3718493 , 0.37835842, ..., 0.8315642 ,\n",
      "         0.82161355, 0.81190735],\n",
      "        [0.3678461 , 0.37413877, 0.38072923, ..., 0.8340517 ,\n",
      "         0.82360476, 0.81332207],\n",
      "        [0.370038  , 0.3765601 , 0.3834421 , ..., 0.8365941 ,\n",
      "         0.826184  , 0.8158869 ],\n",
      "        ...,\n",
      "        [0.27273628, 0.28019163, 0.28767508, ..., 0.66605234,\n",
      "         0.6501804 , 0.6371712 ],\n",
      "        [0.2728669 , 0.28030795, 0.28776014, ..., 0.65599316,\n",
      "         0.6415526 , 0.62877953],\n",
      "        [0.27266538, 0.28021547, 0.28769836, ..., 0.6462679 ,\n",
      "         0.63295364, 0.6203624 ]]], dtype=float32), array([[[0., 0., 0., ..., 0., 0., 0.],\n",
      "        [0., 0., 0., ..., 0., 0., 0.],\n",
      "        [0., 0., 0., ..., 0., 0., 0.],\n",
      "        ...,\n",
      "        [0., 0., 0., ..., 0., 0., 0.],\n",
      "        [0., 0., 0., ..., 0., 0., 0.],\n",
      "        [0., 0., 0., ..., 0., 0., 0.]],\n",
      "\n",
      "       [[0., 0., 0., ..., 0., 0., 0.],\n",
      "        [0., 0., 0., ..., 0., 0., 0.],\n",
      "        [0., 0., 0., ..., 0., 0., 0.],\n",
      "        ...,\n",
      "        [0., 0., 0., ..., 0., 0., 0.],\n",
      "        [0., 0., 0., ..., 0., 0., 0.],\n",
      "        [0., 0., 0., ..., 0., 0., 0.]],\n",
      "\n",
      "       [[0., 0., 0., ..., 0., 0., 0.],\n",
      "        [0., 0., 0., ..., 0., 0., 0.],\n",
      "        [0., 0., 0., ..., 0., 0., 0.],\n",
      "        ...,\n",
      "        [0., 0., 0., ..., 0., 0., 0.],\n",
      "        [0., 0., 0., ..., 0., 0., 0.],\n",
      "        [0., 0., 0., ..., 0., 0., 0.]],\n",
      "\n",
      "       ...,\n",
      "\n",
      "       [[0., 0., 0., ..., 0., 0., 0.],\n",
      "        [0., 0., 0., ..., 0., 0., 0.],\n",
      "        [0., 0., 0., ..., 0., 0., 0.],\n",
      "        ...,\n",
      "        [0., 0., 0., ..., 0., 0., 0.],\n",
      "        [0., 0., 0., ..., 0., 0., 0.],\n",
      "        [0., 0., 0., ..., 0., 0., 0.]],\n",
      "\n",
      "       [[0., 0., 0., ..., 0., 0., 0.],\n",
      "        [0., 0., 0., ..., 0., 0., 0.],\n",
      "        [0., 0., 0., ..., 0., 0., 0.],\n",
      "        ...,\n",
      "        [0., 0., 0., ..., 0., 0., 0.],\n",
      "        [0., 0., 0., ..., 0., 0., 0.],\n",
      "        [0., 0., 0., ..., 0., 0., 0.]],\n",
      "\n",
      "       [[0., 0., 0., ..., 0., 0., 0.],\n",
      "        [0., 0., 0., ..., 0., 0., 0.],\n",
      "        [0., 0., 0., ..., 0., 0., 0.],\n",
      "        ...,\n",
      "        [0., 0., 0., ..., 0., 0., 0.],\n",
      "        [0., 0., 0., ..., 0., 0., 0.],\n",
      "        [0., 0., 0., ..., 0., 0., 0.]]], dtype=float32))\n"
     ]
    }
   ],
   "source": [
    "def show_shapes(patient):\n",
    "    print(f\"Pre-treatment MRI shape: {patient[0].shape}\")\n",
    "    print(f\"Post-treatment MRI shape: {patient[1].shape}\")\n",
    "    print(f\"RTDOSE shape: {patient[2].shape}\")\n",
    "    print(f\"GTV shape: {patient[3].shape}\")\n",
    "\n",
    "#show_shapes(dataset[0])\n",
    "print(dataset[0])"
   ]
  },
  {
   "cell_type": "code",
   "execution_count": 5,
   "id": "bddc11b008d73aa5",
   "metadata": {
    "ExecuteTime": {
     "end_time": "2023-12-20T17:38:41.742366900Z",
     "start_time": "2023-12-20T17:38:41.689415500Z"
    }
   },
   "outputs": [],
   "source": [
    "def show_slice(data, slice_idx):\n",
    "    fig, axes = plt.subplots(2, 2)\n",
    "\n",
    "    axes[0, 0].imshow(pre_treatment_mri[:, :, 80], cmap='bone')\n",
    "    axes[0, 0].set_title('Pre-treatment MRI')\n",
    "    axes[0, 1].imshow(post_treatment_mri[:, :, 80], cmap='bone')\n",
    "    axes[0, 1].set_title('Post-treatment MRI')\n",
    "    axes[1, 0].imshow(rtdose[:, :, 80], cmap='bone')\n",
    "    axes[1, 0].set_title('RTDOSE')\n",
    "    axes[1, 1].imshow(gtv[:, :, 80], cmap='bone')\n",
    "    axes[1, 1].set_title('GTV')\n",
    "\n",
    "    for ax in axes.flatten():\n",
    "        ax.axis('off')\n",
    "    \n",
    "    plt.tight_layout()\n",
    "    ax_slider = plt.axes([0.25, 0.01, 0.65, 0.03], facecolor='lightgoldenrodyellow')\n",
    "\n",
    "    slider = Slider(ax_slider, 'Slice', 0, 9, valinit=0, valstep=1)\n",
    "\n",
    "    def update(val):\n",
    "\n",
    "        slice_idx = int(slider.val)\n",
    "        axes[0, 0].imshow(pre_treatment_mri[:, :, slice_idx], cmap='bone')\n",
    "        axes[0, 1].imshow(post_treatment_mri[:, :, slice_idx], cmap='bone')\n",
    "        axes[1, 0].imshow(rtdose[:, :, slice_idx], cmap='bone')\n",
    "        axes[1, 1].imshow(gtv[:, :, slice_idx], cmap='bone')\n",
    "        fig.canvas.draw_idle()\n",
    "\n",
    "    slider.on_changed(update)\n",
    "\n",
    "    plt.show()\n"
   ]
  },
  {
   "cell_type": "markdown",
   "id": "858137c1fc26724c",
   "metadata": {},
   "source": [
    "# Extract in pre/post mri only frames with GTV"
   ]
  },
  {
   "cell_type": "code",
   "execution_count": 6,
   "id": "b8b65928a4ccd021",
   "metadata": {
    "ExecuteTime": {
     "end_time": "2023-12-20T17:38:43.154286300Z",
     "start_time": "2023-12-20T17:38:43.113912400Z"
    }
   },
   "outputs": [],
   "source": [
    "def extract_frames_with_gtv(shape_data, pre, post, gtv, rtdose):\n",
    "    pre_frames = []\n",
    "    post_frames = []\n",
    "    rtdose_frames = []\n",
    "    \n",
    "    if pre.shape !=  post.shape != gtv.shape != rtdose.shape:\n",
    "        raise ValueError(\"Pre and post treatment MRI should have the same shape\")\n",
    "    \n",
    "    \n",
    "    for i in range(pre.shape[-1]):\n",
    "        if np.any(gtv[:, :, i]):\n",
    "            pre_data = pre[:, :, i][None, ...]\n",
    "            post_data = post[:, :, i][None, ...]\n",
    "            rtdose_data = rtdose[:, :, i][None, ...]\n",
    "            \n",
    "            if(pre_data.shape != shape_data.shape):\n",
    "\n",
    "                \n",
    "                data_add = np.zeros((1,63,512))\n",
    "        \n",
    "                pre_data = np.concatenate((data_add,pre_data,data_add), axis=1)\n",
    "                post_data = np.concatenate((data_add,post_data,data_add), axis=1)\n",
    "                rtdose_data = np.concatenate((data_add,rtdose_data,data_add), axis=1)\n",
    "            \n",
    "            \n",
    "            \n",
    "            pre_frames.append(pre_data)\n",
    "            post_frames.append(post_data)\n",
    "            rtdose_frames.append(rtdose_data)\n",
    "    \n",
    "    return pre_frames, post_frames, rtdose_frames\n",
    "\n",
    "\n",
    "def global_extract(dataset):\n",
    "    \n",
    "    shape_data = np.zeros((1,512,512))\n",
    "    print(shape_data.shape)\n",
    "    \n",
    "    pre_frames_glob = []\n",
    "    post_frames_glob = []\n",
    "    rtdose_frames_glob = []\n",
    "    \n",
    "    for patient in dataset:\n",
    "\n",
    "        pre_treatment_mri, post_treatment_mri, rtdose, gtv = patient\n",
    "        pre_frames, post_frames, rtdose_frames = extract_frames_with_gtv(shape_data, pre_treatment_mri, post_treatment_mri, gtv, rtdose)\n",
    "        \n",
    "        pre_frames_glob.extend(pre_frames)\n",
    "        post_frames_glob.extend(post_frames)\n",
    "        rtdose_frames_glob.extend(rtdose_frames)\n",
    "    \n",
    "    return pre_frames_glob, post_frames_glob, rtdose_frames_glob\n",
    "    \n",
    "\n",
    "#0660684358"
   ]
  },
  {
   "cell_type": "code",
   "execution_count": 7,
   "id": "93affc08499c59f7",
   "metadata": {
    "ExecuteTime": {
     "end_time": "2023-12-20T17:38:44.925372300Z",
     "start_time": "2023-12-20T17:38:44.390350300Z"
    }
   },
   "outputs": [
    {
     "name": "stdout",
     "output_type": "stream",
     "text": [
      "(1, 512, 512)\n"
     ]
    }
   ],
   "source": [
    "pre_frames_glob, post_frames_glob, rtdose_frames_glob = global_extract(dataset)"
   ]
  },
  {
   "cell_type": "code",
   "execution_count": 8,
   "id": "17c3305140d79d34",
   "metadata": {
    "ExecuteTime": {
     "end_time": "2023-12-20T17:38:45.630689300Z",
     "start_time": "2023-12-20T17:38:45.600534800Z"
    }
   },
   "outputs": [
    {
     "name": "stdout",
     "output_type": "stream",
     "text": [
      "592\n",
      "592\n",
      "592\n"
     ]
    }
   ],
   "source": [
    "print(len(pre_frames_glob))\n",
    "print(len(post_frames_glob))\n",
    "print(len(rtdose_frames_glob))"
   ]
  },
  {
   "cell_type": "code",
   "execution_count": 9,
   "id": "64931d14",
   "metadata": {},
   "outputs": [
    {
     "data": {
      "text/plain": [
       "'pre_frames_glob = pre_frames_glob[:-3]\\npost_frames_glob = post_frames_glob[:-3]\\nrtdose_frames_glob = rtdose_frames_glob[:-3]\\n\\nprint(len(rtdose_frames_glob))\\nprint(len(post_frames_glob))\\nprint(len(pre_frames_glob))'"
      ]
     },
     "execution_count": 9,
     "metadata": {},
     "output_type": "execute_result"
    }
   ],
   "source": [
    "'''pre_frames_glob = pre_frames_glob[:-3]\n",
    "post_frames_glob = post_frames_glob[:-3]\n",
    "rtdose_frames_glob = rtdose_frames_glob[:-3]\n",
    "\n",
    "print(len(rtdose_frames_glob))\n",
    "print(len(post_frames_glob))\n",
    "print(len(pre_frames_glob))'''"
   ]
  },
  {
   "cell_type": "code",
   "execution_count": 10,
   "id": "188e2298dd72cc79",
   "metadata": {
    "ExecuteTime": {
     "end_time": "2023-12-20T17:40:16.785367700Z",
     "start_time": "2023-12-20T17:40:15.462631200Z"
    }
   },
   "outputs": [
    {
     "data": {
      "image/png": "[encoded data removed]",
      "text/plain": [
       "<Figure size 640x480 with 4 Axes>"
      ]
     },
     "metadata": {},
     "output_type": "display_data"
    }
   ],
   "source": [
    "def imshow_patient(patient):\n",
    "    pre_treatment_mri, post_treatment_mri, rtdose, gtv = patient\n",
    "    \n",
    "    fig, axes = plt.subplots(2, 2)\n",
    "    \n",
    "    axes[0, 0].imshow(pre_treatment_mri[:, :, 80], cmap='bone')\n",
    "    axes[0, 0].set_title('Pre-treatment MRI')\n",
    "    \n",
    "    axes[0, 1].imshow(post_treatment_mri[:, :, 80], cmap='bone')\n",
    "    axes[0, 1].set_title('Post-treatment MRI')\n",
    "    \n",
    "    axes[1, 0].imshow(rtdose[:, :, 80], cmap='bone')\n",
    "    axes[1, 0].set_title('RTDOSE')\n",
    "    \n",
    "    axes[1, 1].imshow(gtv[:, :, 80], cmap='bone')\n",
    "    axes[1, 1].set_title('GTV')\n",
    "    \n",
    "    for ax in axes.flatten():\n",
    "        ax.axis('off')\n",
    "    \n",
    "    plt.tight_layout()\n",
    "    plt.show()\n",
    "    \n",
    "imshow_patient(dataset[0])"
   ]
  },
  {
   "cell_type": "markdown",
   "id": "6c839b1e",
   "metadata": {},
   "source": [
    "# Normalization\n"
   ]
  },
  {
   "cell_type": "code",
   "execution_count": 11,
   "id": "bc78fcf8",
   "metadata": {},
   "outputs": [
    {
     "data": {
      "text/plain": [
       "'pre = pre_frames_glob[0]\\npost = pre_frames_glob[1]\\n\\nprint(pre.shape)\\nprint(post.shape)\\n\\npre_a = np.squeeze(pre)\\npost_a = np.squeeze(post)\\n\\nprint(pre_a.shape)\\nprint(post_a.shape)\\n\\n#plt.imshow(pre_a)\\nplt.imshow(post_a)\\n'"
      ]
     },
     "execution_count": 11,
     "metadata": {},
     "output_type": "execute_result"
    }
   ],
   "source": [
    "'''pre = pre_frames_glob[0]\n",
    "post = pre_frames_glob[1]\n",
    "\n",
    "print(pre.shape)\n",
    "print(post.shape)\n",
    "\n",
    "pre_a = np.squeeze(pre)\n",
    "post_a = np.squeeze(post)\n",
    "\n",
    "print(pre_a.shape)\n",
    "print(post_a.shape)\n",
    "\n",
    "#plt.imshow(pre_a)\n",
    "plt.imshow(post_a)\n",
    "'''\n"
   ]
  },
  {
   "cell_type": "markdown",
   "id": "25ba24dadda36eff",
   "metadata": {},
   "source": [
    "# Create torch dataset"
   ]
  },
  {
   "cell_type": "code",
   "execution_count": 12,
   "id": "2f55fdda2bfe2d5f",
   "metadata": {
    "ExecuteTime": {
     "end_time": "2023-12-20T17:41:21.996204500Z",
     "start_time": "2023-12-20T17:41:21.947821100Z"
    }
   },
   "outputs": [],
   "source": [
    "from torch.utils.data import Dataset, DataLoader\n",
    "import torch\n",
    "import torch.nn as nn\n",
    "from torch.utils.tensorboard import SummaryWriter\n",
    "import time"
   ]
  },
  {
   "cell_type": "code",
   "execution_count": 13,
   "id": "9649ece1a95a16ac",
   "metadata": {
    "ExecuteTime": {
     "end_time": "2023-12-20T17:41:22.755899700Z",
     "start_time": "2023-12-20T17:41:22.715188Z"
    }
   },
   "outputs": [],
   "source": [
    "class MRIDataset(Dataset):\n",
    "    def __init__(self, pre_frames, post_frames, rt_frames):\n",
    "        self.pre_frames = pre_frames\n",
    "        self.post_frames = post_frames\n",
    "        self.rt_frames = rt_frames\n",
    "        \n",
    "    def __len__(self):\n",
    "        return len(self.pre_frames)\n",
    "    \n",
    "    def __getitem__(self, idx):\n",
    "        pre_frame = self.pre_frames[idx]\n",
    "        post_frame = self.post_frames[idx]\n",
    "        rt_frame = self.rt_frames[idx]\n",
    "        \n",
    "        pre_torch = torch.from_numpy(pre_frame).float()\n",
    "        post_torch = torch.from_numpy(post_frame).float()\n",
    "        rt_torch = torch.from_numpy(rt_frame).float()\n",
    "        \n",
    "        pre_frame = nn.functional.normalize(pre_torch)\n",
    "        post_frame = nn.functional.normalize(post_torch)\n",
    "        rt_frame = nn.functional.normalize(rt_torch)\n",
    "    \n",
    "        \n",
    "        \n",
    "        return pre_frame, post_frame, rt_frame"
   ]
  },
  {
   "cell_type": "code",
   "execution_count": 14,
   "id": "43a30498c2018a20",
   "metadata": {
    "ExecuteTime": {
     "end_time": "2023-12-20T17:41:23.991449400Z",
     "start_time": "2023-12-20T17:41:23.952554800Z"
    }
   },
   "outputs": [],
   "source": [
    "dataset = MRIDataset(pre_frames_glob, post_frames_glob, rtdose_frames_glob)"
   ]
  },
  {
   "cell_type": "code",
   "execution_count": 20,
   "id": "33f3cfd72d59dcb5",
   "metadata": {
    "ExecuteTime": {
     "end_time": "2023-12-20T17:40:24.805042800Z",
     "start_time": "2023-12-20T17:40:24.689641400Z"
    }
   },
   "outputs": [],
   "source": [
    "train_size = int(0.8 * len(dataset))\n",
    "test_size = len(dataset) - train_size\n",
    "val_size = int(0.2 * train_size)\n",
    "train_size = train_size - val_size\n",
    "\n",
    "train_dataset, test_dataset, val_dataset = torch.utils.data.random_split(dataset, [train_size, test_size, val_size])\n",
    "train_dataloader = DataLoader(train_dataset, batch_size=5, shuffle=True)\n",
    "test_dataloader = DataLoader(test_dataset, batch_size=5, shuffle=True)\n",
    "val_dataloader = DataLoader(val_dataset, batch_size=5, shuffle=True)\n"
   ]
  },
  {
   "cell_type": "code",
   "execution_count": 21,
   "id": "b1e77e3ebda06f24",
   "metadata": {
    "ExecuteTime": {
     "end_time": "2023-12-20T17:40:25.200853800Z",
     "start_time": "2023-12-20T17:40:25.080507500Z"
    }
   },
   "outputs": [
    {
     "name": "stdout",
     "output_type": "stream",
     "text": [
      "torch.Size([5, 1, 512, 512])\n",
      "torch.Size([5, 1, 512, 512])\n",
      "torch.Size([5, 1, 512, 512])\n"
     ]
    }
   ],
   "source": [
    "for pre, post, rtdose in train_dataloader:\n",
    "    print(pre.shape)\n",
    "    print(post.shape)\n",
    "    print(rtdose.shape)\n",
    "    break"
   ]
  },
  {
   "cell_type": "markdown",
   "id": "c49d822f8beca5fd",
   "metadata": {},
   "source": [
    "# Create model"
   ]
  },
  {
   "cell_type": "markdown",
   "id": "5fc80e6e505efded",
   "metadata": {},
   "source": [
    "## UNet declaration"
   ]
  },
  {
   "cell_type": "code",
   "execution_count": 22,
   "id": "89dabcde8705a0a7",
   "metadata": {
    "ExecuteTime": {
     "end_time": "2023-12-20T17:40:32.483290600Z",
     "start_time": "2023-12-20T17:40:32.412869600Z"
    }
   },
   "outputs": [],
   "source": [
    "class UNet(nn.Module):\n",
    "    def __init__(self):\n",
    "        super(UNet, self).__init__()\n",
    "\n",
    "        # couche d'encodage\n",
    "        self.enc_conv1 = self.double_conv(2, 64)\n",
    "        self.enc_conv2 = self.double_conv(64, 128)\n",
    "        self.enc_conv3 = self.double_conv(128, 256)\n",
    "        self.enc_conv4 = self.double_conv(256, 512)\n",
    "        self.enc_conv5 = self.double_conv(512, 1024)\n",
    "\n",
    "        # couche decocage\n",
    "        self.dec_conv4 = self.double_conv(1024 + 512, 512)\n",
    "        self.dec_conv3 = self.double_conv(512 + 256, 256)\n",
    "        self.dec_conv2 = self.double_conv(256 + 128, 128)\n",
    "        self.dec_conv1 = self.double_conv(128 + 64, 64)\n",
    "\n",
    "        # sortie\n",
    "        self.final_conv = nn.Conv2d(64, 1, kernel_size=1)\n",
    "\n",
    "\n",
    "        self.pool = nn.MaxPool2d(kernel_size=2, stride=2)\n",
    "        self.up = nn.Upsample(scale_factor=2, mode='bilinear', align_corners=True)\n",
    "\n",
    "    def double_conv(self, in_channels, out_channels):\n",
    "        return nn.Sequential(\n",
    "            nn.Conv2d(in_channels, out_channels, kernel_size=3, padding=1),\n",
    "            nn.ReLU(inplace=True),\n",
    "            nn.Conv2d(out_channels, out_channels, kernel_size=3, padding=1),\n",
    "            nn.ReLU(inplace=True)\n",
    "        )\n",
    "\n",
    "    def forward(self, x):\n",
    "\n",
    "        # chemin descendant\n",
    "        x1 = self.enc_conv1(x)\n",
    "        x2 = self.pool(x1)\n",
    "        x2 = self.enc_conv2(x2)\n",
    "        x3 = self.pool(x2)\n",
    "        x3 = self.enc_conv3(x3)\n",
    "        x4 = self.pool(x3)\n",
    "        x4 = self.enc_conv4(x4)\n",
    "        x5 = self.pool(x4)\n",
    "        x5 = self.enc_conv5(x5)\n",
    "\n",
    "        # chemin ascendant\n",
    "        x = self.up(x5)\n",
    "        x = torch.cat([x, x4], dim=1)\n",
    "        x = self.dec_conv4(x)\n",
    "        x = self.up(x)\n",
    "        x = torch.cat([x, x3], dim=1)\n",
    "        x = self.dec_conv3(x)\n",
    "        x = self.up(x)\n",
    "        x = torch.cat([x, x2], dim=1)\n",
    "        x = self.dec_conv2(x)\n",
    "        x = self.up(x)\n",
    "        x = torch.cat([x, x1], dim=1)\n",
    "        x = self.dec_conv1(x)\n",
    "\n",
    "        # sortie\n",
    "        x = self.final_conv(x)\n",
    "        return x\n"
   ]
  },
  {
   "cell_type": "code",
   "execution_count": 23,
   "id": "1d023ab7e5739b8b",
   "metadata": {
    "ExecuteTime": {
     "end_time": "2023-12-20T17:40:33.076705700Z",
     "start_time": "2023-12-20T17:40:33.019221500Z"
    }
   },
   "outputs": [],
   "source": [
    "class DiffusionModel(nn.Module):\n",
    "    def __init__(self, unet_model, num_timesteps):\n",
    "        super(DiffusionModel, self).__init__()\n",
    "        self.unet_model = unet_model.to(device)\n",
    "        self.num_timesteps = num_timesteps\n",
    "        self.beta_schedule = torch.linspace(0.0001, 0.02, num_timesteps).to(device) \n",
    "\n",
    "    def forward(self, x):\n",
    "        \n",
    "        t = torch.randint(0, self.num_timesteps, (x.size(0),), device=x.device)\n",
    "        \n",
    "        beta_t = self.beta_schedule[t].unsqueeze(1).unsqueeze(2).unsqueeze(3)\n",
    "        noise = torch.randn_like(x)\n",
    "        noised_x = torch.sqrt(1 - beta_t) * x + torch.sqrt(beta_t) * noise\n",
    "\n",
    "        # unet prediction du bruit\n",
    "        predicted_noise = self.unet_model(noised_x)\n",
    "\n",
    "        return predicted_noise\n"
   ]
  },
  {
   "cell_type": "code",
   "execution_count": 24,
   "id": "c8bfc86cdec484c6",
   "metadata": {
    "ExecuteTime": {
     "end_time": "2023-12-20T17:40:33.672637900Z",
     "start_time": "2023-12-20T17:40:33.600124Z"
    }
   },
   "outputs": [],
   "source": [
    "def train_diffusion_model(model, dataloader, optimizer, loss_function, num_epochs, beta_schedule, evalu, \n",
    "                          num_timesteps=None, writer=None):\n",
    "    model.to(device)\n",
    "    num_batches = len(dataloader)\n",
    "    saved_predicted = None\n",
    "    saved_real = None\n",
    "    \n",
    "    for epoch in range(num_epochs):\n",
    "        print(f\"Epoch {epoch+1}/{num_epochs}\")\n",
    "        epoch_loss = 0.0\n",
    "        learn_loss = 0.0 \n",
    "        start_time = time.time()\n",
    "        for i, (pre_frame, post_frame, rt_frame) in enumerate(dataloader):\n",
    "            print(f\"Batch {i+1}/{len(dataloader)}\", end='\\r')\n",
    "            pre_frame = pre_frame.to(device)\n",
    "            post_frame = post_frame.to(device)\n",
    "            rt_frame = rt_frame.to(device)\n",
    "                    \n",
    "            t = torch.randint(0, len(beta_schedule), (pre_frame.size(0),), device=pre_frame.device)\n",
    "\n",
    "            # calcul du bruit\n",
    "            beta_t = beta_schedule[t].unsqueeze(1).unsqueeze(2).unsqueeze(3)\n",
    "            noise = torch.randn_like(pre_frame)\n",
    "            noised_pre_frame = torch.sqrt(1 - beta_t) * pre_frame + torch.sqrt(beta_t) * noise\n",
    "        \n",
    "\n",
    "            # fusion de l'IRM prétraitement + la RTdose pour le passer dans le unet\n",
    "            input_tensor = torch.cat([noised_pre_frame, rt_frame], dim=1)\n",
    "\n",
    "            predicted_post_frame = model(input_tensor)\n",
    "\n",
    "            # calcul de la loss\n",
    "            loss = loss_function(predicted_post_frame, post_frame)\n",
    "            epoch_loss += loss.item()\n",
    "            \n",
    "            learn = loss_function(pre_frame, post_frame)\n",
    "            learn_loss += learn.item()\n",
    "            \n",
    "            if i == 0 and writer is not None:\n",
    "                if not evalu :\n",
    "                    saved_predicted = predicted_post_frame[i].detach().cpu()\n",
    "                    saved_real = post_frame[i].detach().cpu()\n",
    "\n",
    "            # mise a jour des poids\n",
    "            optimizer.zero_grad()\n",
    "            loss.backward()\n",
    "            optimizer.step()\n",
    "            \n",
    "        #epoch_loss /= num_batches   \n",
    "        end_time = time.time()\n",
    "        print(f\"Epoch [{epoch+1}/{num_epochs}], Loss: {epoch_loss:.4f}, LearnLoss: {learn_loss:.4f}, Time: {end_time - start_time}s\")\n",
    "    \n",
    "        if writer is not None:\n",
    "            \n",
    "            if not evalu :\n",
    "                writer.add_scalars('Loss/train', {'predict':epoch_loss, 'learn':learn_loss}, epoch)\n",
    "                writer.add_image('Image/Predicted Image', saved_predicted[0], epoch, dataformats='HW')\n",
    "                writer.add_image('Image/Real Image', saved_real[0], epoch, dataformats='HW')\n",
    "            \n",
    "            else:\n",
    "                writer.add_scalars(f'Eval/train{loss_function.__class__.__name__}_lr{lr}_timesteps{num_timesteps}', {'predict':epoch_loss, 'learn':learn_loss}, epoch)\n",
    "\n",
    "            \n",
    "            \n",
    "        \n",
    "        torch.save(model.state_dict(), 'checkpoint.pt')"
   ]
  },
  {
   "cell_type": "code",
   "execution_count": 26,
   "id": "5cdcb6f634564e37",
   "metadata": {
    "ExecuteTime": {
     "end_time": "2023-12-20T17:40:34.528546400Z",
     "start_time": "2023-12-20T17:40:34.438288900Z"
    }
   },
   "outputs": [
    {
     "name": "stdout",
     "output_type": "stream",
     "text": [
      "le modèle tournera via votre GPU\n"
     ]
    }
   ],
   "source": [
    "if torch.cuda.is_available():\n",
    "    device = torch.device(\"cuda:1\")\n",
    "    print(\"le modèle tournera via votre GPU\")\n",
    "else:\n",
    "    device = torch.device(\"cpu\")\n",
    "    print(\"le modèle tournera via votre CPU\")\n",
    "    "
   ]
  },
  {
   "cell_type": "code",
   "execution_count": 29,
   "id": "f77ecd5a414052d0",
   "metadata": {
    "ExecuteTime": {
     "end_time": "2023-12-20T17:16:09.504022900Z",
     "start_time": "2023-12-20T17:14:34.919130Z"
    }
   },
   "outputs": [
    {
     "name": "stdout",
     "output_type": "stream",
     "text": [
      "Epoch 1/100\n",
      "Epoch [1/100], Loss: 1.3009, LearnLoss: 0.8875, Time: 21.26482915878296s\n",
      "Epoch 2/100\n",
      "Epoch [2/100], Loss: 0.8420, LearnLoss: 0.8876, Time: 21.404455423355103s\n",
      "Epoch 3/100\n",
      "Epoch [3/100], Loss: 0.8017, LearnLoss: 0.8872, Time: 21.58726453781128s\n",
      "Epoch 4/100\n",
      "Epoch [4/100], Loss: 0.7710, LearnLoss: 0.8873, Time: 21.611116886138916s\n",
      "Epoch 5/100\n",
      "Epoch [5/100], Loss: 0.7494, LearnLoss: 0.8872, Time: 21.551459312438965s\n",
      "Epoch 6/100\n",
      "Epoch [6/100], Loss: 0.7339, LearnLoss: 0.8872, Time: 21.50046682357788s\n",
      "Epoch 7/100\n",
      "Epoch [7/100], Loss: 0.7232, LearnLoss: 0.8872, Time: 21.473572254180908s\n",
      "Epoch 8/100\n",
      "Epoch [8/100], Loss: 0.7065, LearnLoss: 0.8873, Time: 21.46323823928833s\n",
      "Epoch 9/100\n",
      "Epoch [9/100], Loss: 0.6959, LearnLoss: 0.8868, Time: 21.451700925827026s\n",
      "Epoch 10/100\n",
      "Epoch [10/100], Loss: 0.6953, LearnLoss: 0.8877, Time: 21.44051742553711s\n",
      "Epoch 11/100\n",
      "Epoch [11/100], Loss: 0.6841, LearnLoss: 0.8870, Time: 21.439341068267822s\n",
      "Epoch 12/100\n",
      "Epoch [12/100], Loss: 0.6613, LearnLoss: 0.8875, Time: 21.432771921157837s\n",
      "Epoch 13/100\n",
      "Epoch [13/100], Loss: 0.6582, LearnLoss: 0.8876, Time: 21.427470445632935s\n",
      "Epoch 14/100\n",
      "Epoch [14/100], Loss: 0.6459, LearnLoss: 0.8873, Time: 21.427032470703125s\n",
      "Epoch 15/100\n",
      "Epoch [15/100], Loss: 0.6481, LearnLoss: 0.8871, Time: 21.41781783103943s\n",
      "Epoch 16/100\n",
      "Epoch [16/100], Loss: 0.6375, LearnLoss: 0.8874, Time: 21.41745114326477s\n",
      "Epoch 17/100\n",
      "Epoch [17/100], Loss: 0.6335, LearnLoss: 0.8873, Time: 21.42795181274414s\n",
      "Epoch 18/100\n",
      "Epoch [18/100], Loss: 0.6254, LearnLoss: 0.8875, Time: 21.42003893852234s\n",
      "Epoch 19/100\n",
      "Epoch [19/100], Loss: 0.6253, LearnLoss: 0.8875, Time: 21.41329526901245s\n",
      "Epoch 20/100\n",
      "Epoch [20/100], Loss: 0.6184, LearnLoss: 0.8874, Time: 21.420515298843384s\n",
      "Epoch 21/100\n",
      "Epoch [21/100], Loss: 0.6112, LearnLoss: 0.8875, Time: 21.41867709159851s\n",
      "Epoch 22/100\n",
      "Epoch [22/100], Loss: 0.6018, LearnLoss: 0.8871, Time: 21.415446758270264s\n",
      "Epoch 23/100\n",
      "Epoch [23/100], Loss: 0.5982, LearnLoss: 0.8877, Time: 21.42192840576172s\n",
      "Epoch 24/100\n",
      "Epoch [24/100], Loss: 0.6010, LearnLoss: 0.8872, Time: 21.42805814743042s\n",
      "Epoch 25/100\n",
      "Epoch [25/100], Loss: 0.5946, LearnLoss: 0.8876, Time: 21.43526339530945s\n",
      "Epoch 26/100\n",
      "Epoch [26/100], Loss: 0.5912, LearnLoss: 0.8870, Time: 21.42153024673462s\n",
      "Epoch 27/100\n",
      "Epoch [27/100], Loss: 0.5847, LearnLoss: 0.8871, Time: 21.417730569839478s\n",
      "Epoch 28/100\n",
      "Epoch [28/100], Loss: 0.6040, LearnLoss: 0.8871, Time: 21.413710594177246s\n",
      "Epoch 29/100\n",
      "Epoch [29/100], Loss: 0.5824, LearnLoss: 0.8871, Time: 21.40212845802307s\n",
      "Epoch 30/100\n",
      "Epoch [30/100], Loss: 0.5754, LearnLoss: 0.8873, Time: 21.39596199989319s\n",
      "Epoch 31/100\n",
      "Epoch [31/100], Loss: 0.5670, LearnLoss: 0.8875, Time: 21.403536558151245s\n",
      "Epoch 32/100\n",
      "Epoch [32/100], Loss: 0.5647, LearnLoss: 0.8871, Time: 21.406566381454468s\n",
      "Epoch 33/100\n",
      "Epoch [33/100], Loss: 0.5617, LearnLoss: 0.8872, Time: 21.411372184753418s\n",
      "Epoch 34/100\n",
      "Epoch [34/100], Loss: 0.5546, LearnLoss: 0.8879, Time: 21.41182041168213s\n",
      "Epoch 35/100\n",
      "Epoch [35/100], Loss: 0.5568, LearnLoss: 0.8875, Time: 21.414631605148315s\n",
      "Epoch 36/100\n",
      "Epoch [36/100], Loss: 0.5530, LearnLoss: 0.8869, Time: 21.40967559814453s\n",
      "Epoch 37/100\n",
      "Epoch [37/100], Loss: 0.5457, LearnLoss: 0.8870, Time: 21.408878564834595s\n",
      "Epoch 38/100\n",
      "Epoch [38/100], Loss: 0.5405, LearnLoss: 0.8871, Time: 21.398953914642334s\n",
      "Epoch 39/100\n",
      "Epoch [39/100], Loss: 0.5400, LearnLoss: 0.8877, Time: 21.39830231666565s\n",
      "Epoch 40/100\n",
      "Epoch [40/100], Loss: 0.5359, LearnLoss: 0.8874, Time: 21.383037090301514s\n",
      "Epoch 41/100\n",
      "Epoch [41/100], Loss: 0.5457, LearnLoss: 0.8874, Time: 21.38830041885376s\n",
      "Epoch 42/100\n",
      "Epoch [42/100], Loss: 0.5318, LearnLoss: 0.8870, Time: 21.388762950897217s\n",
      "Epoch 43/100\n",
      "Epoch [43/100], Loss: 0.5315, LearnLoss: 0.8877, Time: 21.38743543624878s\n",
      "Epoch 44/100\n",
      "Epoch [44/100], Loss: 0.5271, LearnLoss: 0.8875, Time: 21.386329650878906s\n",
      "Epoch 45/100\n",
      "Epoch [45/100], Loss: 0.5292, LearnLoss: 0.8875, Time: 21.390599012374878s\n",
      "Epoch 46/100\n",
      "Epoch [46/100], Loss: 0.5163, LearnLoss: 0.8874, Time: 21.39991569519043s\n",
      "Epoch 47/100\n",
      "Epoch [47/100], Loss: 0.5219, LearnLoss: 0.8870, Time: 21.39407253265381s\n",
      "Epoch 48/100\n",
      "Epoch [48/100], Loss: 0.5210, LearnLoss: 0.8874, Time: 21.382251024246216s\n",
      "Epoch 49/100\n",
      "Epoch [49/100], Loss: 0.5160, LearnLoss: 0.8877, Time: 21.389359712600708s\n",
      "Epoch 50/100\n",
      "Epoch [50/100], Loss: 0.5146, LearnLoss: 0.8872, Time: 21.39279317855835s\n",
      "Epoch 51/100\n",
      "Epoch [51/100], Loss: 0.5072, LearnLoss: 0.8876, Time: 21.384236335754395s\n",
      "Epoch 52/100\n",
      "Epoch [52/100], Loss: 0.5088, LearnLoss: 0.8880, Time: 21.378924131393433s\n",
      "Epoch 53/100\n",
      "Epoch [53/100], Loss: 0.5072, LearnLoss: 0.8876, Time: 21.37747287750244s\n",
      "Epoch 54/100\n",
      "Epoch [54/100], Loss: 0.4997, LearnLoss: 0.8876, Time: 21.37673044204712s\n",
      "Epoch 55/100\n",
      "Epoch [55/100], Loss: 0.4980, LearnLoss: 0.8874, Time: 21.38984990119934s\n",
      "Epoch 56/100\n",
      "Epoch [56/100], Loss: 0.5014, LearnLoss: 0.8877, Time: 21.379958152770996s\n",
      "Epoch 57/100\n",
      "Epoch [57/100], Loss: 0.4924, LearnLoss: 0.8871, Time: 21.377270460128784s\n",
      "Epoch 58/100\n",
      "Epoch [58/100], Loss: 0.4884, LearnLoss: 0.8875, Time: 21.380650758743286s\n",
      "Epoch 59/100\n",
      "Epoch [59/100], Loss: 0.4916, LearnLoss: 0.8874, Time: 21.377585411071777s\n",
      "Epoch 60/100\n",
      "Epoch [60/100], Loss: 0.4850, LearnLoss: 0.8874, Time: 21.376949787139893s\n",
      "Epoch 61/100\n",
      "Epoch [61/100], Loss: 0.4913, LearnLoss: 0.8872, Time: 21.38502860069275s\n",
      "Epoch 62/100\n",
      "Epoch [62/100], Loss: 0.4853, LearnLoss: 0.8870, Time: 21.36620306968689s\n",
      "Epoch 63/100\n",
      "Epoch [63/100], Loss: 0.4852, LearnLoss: 0.8878, Time: 21.37437129020691s\n",
      "Epoch 64/100\n",
      "Epoch [64/100], Loss: 0.4864, LearnLoss: 0.8875, Time: 21.380271196365356s\n",
      "Epoch 65/100\n",
      "Epoch [65/100], Loss: 0.4790, LearnLoss: 0.8874, Time: 21.364228010177612s\n",
      "Epoch 66/100\n",
      "Epoch [66/100], Loss: 0.4749, LearnLoss: 0.8870, Time: 21.36081075668335s\n",
      "Epoch 67/100\n",
      "Epoch [67/100], Loss: 0.4790, LearnLoss: 0.8871, Time: 21.36509895324707s\n",
      "Epoch 68/100\n",
      "Epoch [68/100], Loss: 0.4743, LearnLoss: 0.8874, Time: 21.364598989486694s\n",
      "Epoch 69/100\n",
      "Epoch [69/100], Loss: 0.4725, LearnLoss: 0.8875, Time: 21.36278223991394s\n",
      "Epoch 70/100\n",
      "Epoch [70/100], Loss: 0.4734, LearnLoss: 0.8876, Time: 21.359392166137695s\n",
      "Epoch 71/100\n",
      "Epoch [71/100], Loss: 0.4731, LearnLoss: 0.8876, Time: 21.360284090042114s\n",
      "Epoch 72/100\n",
      "Epoch [72/100], Loss: 0.4760, LearnLoss: 0.8873, Time: 21.361236810684204s\n",
      "Epoch 73/100\n",
      "Epoch [73/100], Loss: 0.4721, LearnLoss: 0.8873, Time: 21.361401081085205s\n",
      "Epoch 74/100\n",
      "Epoch [74/100], Loss: 0.4672, LearnLoss: 0.8871, Time: 21.366711854934692s\n",
      "Epoch 75/100\n",
      "Batch 58/76\r"
     ]
    },
    {
     "ename": "KeyboardInterrupt",
     "evalue": "",
     "output_type": "error",
     "traceback": [
      "\u001b[0;31m---------------------------------------------------------------------------\u001b[0m",
      "\u001b[0;31mKeyboardInterrupt\u001b[0m                         Traceback (most recent call last)",
      "Cell \u001b[0;32mIn [29], line 18\u001b[0m\n\u001b[1;32m     14\u001b[0m beta_schedule \u001b[38;5;241m=\u001b[39m torch\u001b[38;5;241m.\u001b[39mlinspace(\u001b[38;5;241m0.001\u001b[39m, \u001b[38;5;241m0.02\u001b[39m, \u001b[38;5;241m500\u001b[39m)\u001b[38;5;241m.\u001b[39mto(device)\n\u001b[1;32m     16\u001b[0m writer \u001b[38;5;241m=\u001b[39m SummaryWriter()\n\u001b[0;32m---> 18\u001b[0m \u001b[43mtrain_diffusion_model\u001b[49m\u001b[43m(\u001b[49m\u001b[43mmodel\u001b[49m\u001b[38;5;241;43m=\u001b[39;49m\u001b[43mdiffusion_model\u001b[49m\u001b[43m,\u001b[49m\u001b[43m \u001b[49m\u001b[43mdataloader\u001b[49m\u001b[38;5;241;43m=\u001b[39;49m\u001b[43mtrain_dataloader\u001b[49m\u001b[43m,\u001b[49m\u001b[43m \u001b[49m\u001b[43moptimizer\u001b[49m\u001b[38;5;241;43m=\u001b[39;49m\u001b[43moptimizer\u001b[49m\u001b[43m,\u001b[49m\u001b[43m \u001b[49m\n\u001b[1;32m     19\u001b[0m \u001b[43m                      \u001b[49m\u001b[43mloss_function\u001b[49m\u001b[38;5;241;43m=\u001b[39;49m\u001b[43mloss_function\u001b[49m\u001b[43m,\u001b[49m\u001b[43m \u001b[49m\u001b[43mnum_epochs\u001b[49m\u001b[38;5;241;43m=\u001b[39;49m\u001b[38;5;241;43m100\u001b[39;49m\u001b[43m,\u001b[49m\u001b[43m \u001b[49m\u001b[43mbeta_schedule\u001b[49m\u001b[38;5;241;43m=\u001b[39;49m\u001b[43mbeta_schedule\u001b[49m\u001b[43m,\u001b[49m\n\u001b[1;32m     20\u001b[0m \u001b[43m                      \u001b[49m\u001b[43mwriter\u001b[49m\u001b[38;5;241;43m=\u001b[39;49m\u001b[43mwriter\u001b[49m\u001b[43m,\u001b[49m\u001b[43m \u001b[49m\u001b[43mevalu\u001b[49m\u001b[38;5;241;43m=\u001b[39;49m\u001b[38;5;28;43;01mFalse\u001b[39;49;00m\u001b[43m)\u001b[49m\n\u001b[1;32m     22\u001b[0m writer\u001b[38;5;241m.\u001b[39mclose()\n",
      "Cell \u001b[0;32mIn [24], line 34\u001b[0m, in \u001b[0;36mtrain_diffusion_model\u001b[0;34m(model, dataloader, optimizer, loss_function, num_epochs, beta_schedule, evalu, num_timesteps, writer)\u001b[0m\n\u001b[1;32m     32\u001b[0m \u001b[38;5;66;03m# calcul de la loss\u001b[39;00m\n\u001b[1;32m     33\u001b[0m loss \u001b[38;5;241m=\u001b[39m loss_function(predicted_post_frame, post_frame)\n\u001b[0;32m---> 34\u001b[0m epoch_loss \u001b[38;5;241m+\u001b[39m\u001b[38;5;241m=\u001b[39m \u001b[43mloss\u001b[49m\u001b[38;5;241;43m.\u001b[39;49m\u001b[43mitem\u001b[49m\u001b[43m(\u001b[49m\u001b[43m)\u001b[49m\n\u001b[1;32m     36\u001b[0m learn \u001b[38;5;241m=\u001b[39m loss_function(pre_frame, post_frame)\n\u001b[1;32m     37\u001b[0m learn_loss \u001b[38;5;241m+\u001b[39m\u001b[38;5;241m=\u001b[39m learn\u001b[38;5;241m.\u001b[39mitem()\n",
      "\u001b[0;31mKeyboardInterrupt\u001b[0m: "
     ]
    }
   ],
   "source": [
    "unet_model = UNet()\n",
    "#unet_model = nn.DataParallel(unet_model)\n",
    "#unet_model.to(device)\n",
    "\n",
    "\n",
    "diffusion_model = DiffusionModel(unet_model, num_timesteps=500)\n",
    "#diffusion_model = nn.DataParallel(diffusion_model)\n",
    "#diffusion_model.to(device)\n",
    "\n",
    "\n",
    "optimizer = torch.optim.Adam(diffusion_model.parameters(), lr=0.001)\n",
    "loss_function = nn.L1Loss()\n",
    "\n",
    "beta_schedule = torch.linspace(0.001, 0.02, 500).to(device)\n",
    "\n",
    "writer = SummaryWriter()\n",
    "\n",
    "train_diffusion_model(model=diffusion_model, dataloader=train_dataloader, optimizer=optimizer, \n",
    "                      loss_function=loss_function, num_epochs=100, beta_schedule=beta_schedule,\n",
    "                      writer=writer, evalu=False)\n",
    "\n",
    "writer.close()"
   ]
  },
  {
   "cell_type": "code",
   "execution_count": null,
   "id": "67cc1d20ac891870",
   "metadata": {},
   "outputs": [],
   "source": [
    "torch.save(diffusion_model.state_dict(), 'diffusion_model.pt')"
   ]
  },
  {
   "cell_type": "markdown",
   "id": "c0d330a49453eeb9",
   "metadata": {},
   "source": [
    "## Optimisation des hyperparamètres"
   ]
  },
  {
   "cell_type": "code",
   "execution_count": 56,
   "id": "97432ef010910e21",
   "metadata": {
    "ExecuteTime": {
     "end_time": "2024-01-09T10:36:43.791440800Z",
     "start_time": "2024-01-09T10:36:40.476639100Z"
    }
   },
   "outputs": [],
   "source": [
    "import itertools\n",
    "import optuna"
   ]
  },
  {
   "cell_type": "markdown",
   "id": "7f5e4e0f",
   "metadata": {},
   "source": [
    "## Evaluation"
   ]
  },
  {
   "cell_type": "code",
   "execution_count": 84,
   "id": "1683e0c0",
   "metadata": {},
   "outputs": [],
   "source": [
    "def evaluate_model(model, dataloader, beta_schedule, loss_function , device):\n",
    "    \n",
    "    model.eval()\n",
    "    total_loss = 0.0\n",
    "    total_samples = 0\n",
    "    \n",
    "    \n",
    "    with torch.no_grad():\n",
    "        for i, (pre_frame, post_frame, rt_frame) in enumerate(dataloader):\n",
    "            pre_frame = pre_frame.to(device)\n",
    "            post_frame = post_frame.to(device)\n",
    "            rt_frame = rt_frame.to(device)\n",
    "                    \n",
    "            t = torch.randint(0, len(beta_schedule), (pre_frame.size(0),), device=pre_frame.device)\n",
    "            beta_t = beta_schedule[t].unsqueeze(1).unsqueeze(2).unsqueeze(3)\n",
    "            noise = torch.randn_like(pre_frame)\n",
    "            noised_pre_frame = torch.sqrt(1 - beta_t) * pre_frame + torch.sqrt(beta_t) * noise\n",
    "        \n",
    "            input_tensor = torch.cat([noised_pre_frame, rt_frame], dim=1)\n",
    "\n",
    "            predicted_post_frame = model(input_tensor)\n",
    "\n",
    "            loss = loss_function(predicted_post_frame, post_frame)\n",
    "            total_loss += loss.item()\n",
    "            total_samples += pre_frame.size(0)\n",
    "            \n",
    "    return total_loss / total_samples"
   ]
  },
  {
   "cell_type": "code",
   "execution_count": 85,
   "id": "b1d546287f1887c",
   "metadata": {},
   "outputs": [],
   "source": [
    "def objective(trial):\n",
    "    \n",
    "    loss = trial.suggest_categorical('loss_function',[\"l1\", \"mse\"])\n",
    "    num_timesteps = trial.suggest_int('num_timesteps',10,3000)\n",
    "    lr = trial.suggest_float('lr', 1e-5, 1e-3)\n",
    "    batch_size = trial.suggest_int('batch_size',1,10)\n",
    "    optimizer = trial.suggest_categorical(\"optimizer\", [\"Adam\",\"SGD\"])\n",
    "    num_epochs = trial.suggest_int('num_epochs',10,100)\n",
    "    \n",
    "    print(\"------------------------------------------------------------------------------------------------\")\n",
    "    print(f'Testing with loss function: {loss}, num_timesteps: {num_timesteps}, lr: {lr}, batch_size: {batch_size}',\n",
    "          f' optimizer: {optimizer}, num_epochs: {num_epochs}')\n",
    "    \n",
    "    \n",
    "    dataloader_train = DataLoader(train_dataset, batch_size=batch_size, shuffle=True)\n",
    "    dataloader_val = DataLoader(val_dataset, batch_size=batch_size, shuffle=True)\n",
    "\n",
    "    unet = UNet()\n",
    "    unet.to(device)\n",
    "    \n",
    "    diffusion_model = DiffusionModel(unet, num_timesteps=num_timesteps)\n",
    "    diffusion_model.to(device)\n",
    "    \n",
    "    beta_schedule = torch.linspace(0.001, 0.02, num_timesteps).to(device)\n",
    "    \n",
    "    if optimizer == \"Adam\":\n",
    "        optimizer = torch.optim.Adam(itertools.chain(diffusion_model.parameters()), lr=lr)\n",
    "        \n",
    "    elif optimizer == \"SGD\":\n",
    "        optimizer = torch.optim.SGD(itertools.chain(diffusion_model.parameters()), lr=lr)\n",
    "        \n",
    "    \n",
    "    if loss == \"l1\":\n",
    "        loss_function = nn.L1Loss()\n",
    "    \n",
    "    \n",
    "    elif loss == \"mse\":\n",
    "        loss_function = nn.MSELoss()\n",
    "        \n",
    "\n",
    "    train_loss = train_diffusion_model(diffusion_model, train_dataloader, optimizer, loss_function, num_epochs, beta_schedule, writer=None, evalu=True)    \n",
    "    \n",
    "    average_loss = evaluate_model(model=diffusion_model, dataloader=dataloader_val, \n",
    "                                  beta_schedule=beta_schedule, loss_function=loss_function, device=device)\n",
    "    \n",
    "    print(average_loss)\n",
    "    \n",
    "    return average_loss\n"
   ]
  },
  {
   "cell_type": "code",
   "execution_count": null,
   "id": "dc2967e83bf59aa1",
   "metadata": {
    "scrolled": true
   },
   "outputs": [
    {
     "name": "stderr",
     "output_type": "stream",
     "text": [
      "[I 2024-01-31 11:10:16,932] A new study created in memory with name: no-name-9d4c569f-e7fd-43bb-aacb-c4596b5900dd\n"
     ]
    },
    {
     "name": "stdout",
     "output_type": "stream",
     "text": [
      "------------------------------------------------------------------------------------------------\n",
      "Testing with loss function: l1, num_timesteps: 605, lr: 0.0007720752824838013, batch_size: 3  optimizer: SGD, num_epochs: 24\n",
      "Epoch 1/24\n",
      "Epoch [1/24], Loss: 2.2045, LearnLoss: 0.4393, Time: 24.113916397094727s\n",
      "Epoch 2/24\n",
      "Epoch [2/24], Loss: 1.4430, LearnLoss: 0.4393, Time: 24.75963044166565s\n",
      "Epoch 3/24\n",
      "Epoch [3/24], Loss: 1.1997, LearnLoss: 0.4392, Time: 24.425116539001465s\n",
      "Epoch 4/24\n",
      "Epoch [4/24], Loss: 1.1188, LearnLoss: 0.4393, Time: 23.93409252166748s\n",
      "Epoch 5/24\n",
      "Epoch [5/24], Loss: 1.0807, LearnLoss: 0.4392, Time: 24.14416813850403s\n",
      "Epoch 6/24\n",
      "Epoch [6/24], Loss: 1.0616, LearnLoss: 0.4393, Time: 24.2979953289032s\n",
      "Epoch 7/24\n",
      "Batch 23/38\r"
     ]
    }
   ],
   "source": [
    "study = optuna.create_study(direction='minimize')\n",
    "study.optimize(objective, n_trials=25)\n",
    "\n",
    "print(\"------------------------------------ BEST PARAMS ---------------------------------------\")\n",
    "print(study.best_trial.params)"
   ]
  },
  {
   "cell_type": "code",
   "execution_count": null,
   "id": "eb72f98948640434",
   "metadata": {
    "ExecuteTime": {
     "end_time": "2024-01-09T10:37:11.815812900Z",
     "start_time": "2024-01-09T10:37:11.630745400Z"
    }
   },
   "outputs": [],
   "source": [
    "loss_functions = [nn.L1Loss(), nn.MSELoss()]\n",
    "num_timesteps_list = [10,50,100,500,1000,1500]\n",
    "learning_rates = [0.001,0.0001,0.00001]\n",
    "\n",
    "writer = SummaryWriter()\n",
    "\n",
    "for loss_function, num_timesteps, lr in product(loss_functions, num_timesteps_list, learning_rates):\n",
    "    print(\"------------------------------------------------------------------------------------------------\")\n",
    "    print(f'Testing with loss function: {loss_function}, num_timesteps: {num_timesteps}, lr: {lr}')\n",
    "\n",
    "    beta_schedule = torch.linspace(lr, 0.02, num_timesteps).to(device)\n",
    "    optimizer = torch.optim.Adam(diffusion_model.parameters(), lr=lr)\n",
    "    \n",
    "    train_diffusion_model(model=diffusion_model, dataloader=train_dataloader, \n",
    "                          optimizer=optimizer, loss_function=loss_function, num_epochs=20, beta_schedule=beta_schedule, \n",
    "                          evalu=True, num_timesteps=num_timesteps, writer=writer)\n",
    "    \n",
    "    \n",
    "    "
   ]
  },
  {
   "cell_type": "markdown",
   "id": "dae38b0b",
   "metadata": {},
   "source": [
    "## Test avec FullyConnected Model"
   ]
  },
  {
   "cell_type": "code",
   "execution_count": 19,
   "id": "94700b63",
   "metadata": {},
   "outputs": [],
   "source": [
    "class Fully(nn.Module):\n",
    "    def __init__(self):\n",
    "        super(Fully, self).__init__()\n",
    "        \n",
    "        self.fully1 = nn.Linear(512,512)\n",
    "\n",
    "    def forward(self, x):\n",
    "        \n",
    "        out = self.fully1(x)\n",
    "\n",
    "        return out"
   ]
  },
  {
   "cell_type": "code",
   "execution_count": 20,
   "id": "54845481",
   "metadata": {},
   "outputs": [],
   "source": [
    "def train_fully_model(model, dataloader, optimizer, loss_function, num_epochs, writer=None):\n",
    "    model.to(device)\n",
    "    num_batches = len(dataloader)\n",
    "    saved_predicted = None\n",
    "    saved_real = None\n",
    "    \n",
    "    for epoch in range(num_epochs):\n",
    "        print(f\"Epoch {epoch+1}/{num_epochs}\")\n",
    "        epoch_loss = 0.0\n",
    "        learn_loss = 0.0\n",
    "        start_time = time.time()\n",
    "        for i, (pre_frame, post_frame, rt_frame) in enumerate(dataloader):\n",
    "            print(f\"Batch {i+1}/{len(dataloader)}\", end='\\r')\n",
    "            pre_frame = pre_frame.to(device)\n",
    "            post_frame = post_frame.to(device)\n",
    "            rt_frame = rt_frame.to(device)\n",
    "            \n",
    "            input_tensor = torch.cat([pre_frame, rt_frame], dim=1)\n",
    "            \n",
    "            predicted_post_frame = model(input_tensor)\n",
    "            \n",
    "            # calcul de la loss\n",
    "            loss = loss_function(predicted_post_frame, post_frame)\n",
    "            epoch_loss += loss.item()\n",
    "            \n",
    "            learn = loss_function(pre_frame, pre_frame)\n",
    "            learn_loss += learn.item()\n",
    "            \n",
    "            if i == 0 and writer is not None:\n",
    "                saved_predicted = predicted_post_frame[i].detach().cpu()\n",
    "                saved_real = post_frame[i].detach().cpu()\n",
    "            \n",
    "            # mise a jour des poids\n",
    "            optimizer.zero_grad()\n",
    "            loss.backward()\n",
    "            optimizer.step()\n",
    "            \n",
    "        epoch_loss /= num_batches   \n",
    "        learn_loss /= num_batches   \n",
    "        end_time = time.time()\n",
    "        print(f\"Epoch [{epoch+1}/{num_epochs}], Loss: {epoch_loss:.4f}, Time: {end_time - start_time}s\")\n",
    "    \n",
    "        if writer is not None:\n",
    "            writer.add_scalar('Loss/train', epoch_loss, epoch)\n",
    "            writer.add_scalar('Loss/learn', learn_loss, epoch)\n",
    "\n",
    "    \n",
    "            writer.add_image('Predicted Image', saved_predicted[0], epoch, dataformats='HW')\n",
    "            writer.add_image('Real Image', saved_real[0], epoch, dataformats='HW')\n",
    "            \n",
    "            \n",
    "        \n",
    "        torch.save(model.state_dict(), 'fully.pt')            \n",
    "            \n",
    "    "
   ]
  },
  {
   "cell_type": "code",
   "execution_count": null,
   "id": "5feaf7e2",
   "metadata": {},
   "outputs": [],
   "source": [
    "fully_model = Fully()\n",
    "optimizer = torch.optim.Adam(diffusion_model.parameters(), lr=0.001)\n",
    "loss_function = nn.MSELoss()\n",
    "writer = SummaryWriter()\n",
    "\n",
    "train_fully_model(fully_model, train_dataloader, optimizer, \n",
    "                      loss_function, num_epochs=50,writer=writer)\n",
    "\n",
    "writer.close()"
   ]
  }
 ],
 "metadata": {
  "kernelspec": {
   "display_name": "Python 3 (ipykernel)",
   "language": "python",
   "name": "python3"
  },
  "language_info": {
   "codemirror_mode": {
    "name": "ipython",
    "version": 3
   },
   "file_extension": ".py",
   "mimetype": "text/x-python",
   "name": "python",
   "nbconvert_exporter": "python",
   "pygments_lexer": "ipython3",
   "version": "3.9.16"
  }
 },
 "nbformat": 4,
 "nbformat_minor": 5
}
